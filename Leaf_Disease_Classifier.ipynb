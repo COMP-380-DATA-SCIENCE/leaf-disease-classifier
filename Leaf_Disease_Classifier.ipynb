{
  "cells": [
    {
      "cell_type": "markdown",
      "metadata": {
        "id": "view-in-github",
        "colab_type": "text"
      },
      "source": [
        "<a href=\"https://colab.research.google.com/github/COMP-380-DATA-SCIENCE/leaf-disease-classifier/blob/main/Leaf_Disease_Classifier.ipynb\" target=\"_parent\"><img src=\"https://colab.research.google.com/assets/colab-badge.svg\" alt=\"Open In Colab\"/></a>"
      ]
    },
    {
      "cell_type": "code",
      "execution_count": null,
      "metadata": {
        "id": "CuMWVxEQQQub",
        "colab": {
          "base_uri": "https://localhost:8080/"
        },
        "outputId": "21f2f70d-1809-4ca8-f60c-bc558aa3d591"
      },
      "outputs": [
        {
          "output_type": "stream",
          "name": "stdout",
          "text": [
            "Collecting dataset\n",
            "  Downloading dataset-1.6.2-py2.py3-none-any.whl (18 kB)\n",
            "Collecting sqlalchemy<2.0.0,>=1.3.2 (from dataset)\n",
            "  Downloading SQLAlchemy-1.4.52-cp310-cp310-manylinux_2_5_x86_64.manylinux1_x86_64.manylinux_2_17_x86_64.manylinux2014_x86_64.whl (1.6 MB)\n",
            "\u001b[2K     \u001b[90m━━━━━━━━━━━━━━━━━━━━━━━━━━━━━━━━━━━━━━━━\u001b[0m \u001b[32m1.6/1.6 MB\u001b[0m \u001b[31m21.5 MB/s\u001b[0m eta \u001b[36m0:00:00\u001b[0m\n",
            "\u001b[?25hCollecting alembic>=0.6.2 (from dataset)\n",
            "  Downloading alembic-1.13.1-py3-none-any.whl (233 kB)\n",
            "\u001b[2K     \u001b[90m━━━━━━━━━━━━━━━━━━━━━━━━━━━━━━━━━━━━━━━━\u001b[0m \u001b[32m233.4/233.4 kB\u001b[0m \u001b[31m14.0 MB/s\u001b[0m eta \u001b[36m0:00:00\u001b[0m\n",
            "\u001b[?25hCollecting banal>=1.0.1 (from dataset)\n",
            "  Downloading banal-1.0.6-py2.py3-none-any.whl (6.1 kB)\n",
            "Collecting Mako (from alembic>=0.6.2->dataset)\n",
            "  Downloading Mako-1.3.2-py3-none-any.whl (78 kB)\n",
            "\u001b[2K     \u001b[90m━━━━━━━━━━━━━━━━━━━━━━━━━━━━━━━━━━━━━━━━\u001b[0m \u001b[32m78.7/78.7 kB\u001b[0m \u001b[31m9.9 MB/s\u001b[0m eta \u001b[36m0:00:00\u001b[0m\n",
            "\u001b[?25hRequirement already satisfied: typing-extensions>=4 in /usr/local/lib/python3.10/dist-packages (from alembic>=0.6.2->dataset) (4.10.0)\n",
            "Requirement already satisfied: greenlet!=0.4.17 in /usr/local/lib/python3.10/dist-packages (from sqlalchemy<2.0.0,>=1.3.2->dataset) (3.0.3)\n",
            "Requirement already satisfied: MarkupSafe>=0.9.2 in /usr/local/lib/python3.10/dist-packages (from Mako->alembic>=0.6.2->dataset) (2.1.5)\n",
            "Installing collected packages: banal, sqlalchemy, Mako, alembic, dataset\n",
            "  Attempting uninstall: sqlalchemy\n",
            "    Found existing installation: SQLAlchemy 2.0.28\n",
            "    Uninstalling SQLAlchemy-2.0.28:\n",
            "      Successfully uninstalled SQLAlchemy-2.0.28\n",
            "\u001b[31mERROR: pip's dependency resolver does not currently take into account all the packages that are installed. This behaviour is the source of the following dependency conflicts.\n",
            "ipython-sql 0.5.0 requires sqlalchemy>=2.0, but you have sqlalchemy 1.4.52 which is incompatible.\u001b[0m\u001b[31m\n",
            "\u001b[0mSuccessfully installed Mako-1.3.2 alembic-1.13.1 banal-1.0.6 dataset-1.6.2 sqlalchemy-1.4.52\n"
          ]
        }
      ],
      "source": [
        "!pip install dataset"
      ]
    },
    {
      "cell_type": "code",
      "source": [
        "!pip install datasets[vision]"
      ],
      "metadata": {
        "id": "xwmcf03tPcWb",
        "colab": {
          "base_uri": "https://localhost:8080/"
        },
        "outputId": "414967ce-82f2-4ecb-8b81-fcbd5ee87960"
      },
      "execution_count": null,
      "outputs": [
        {
          "output_type": "stream",
          "name": "stdout",
          "text": [
            "Collecting datasets[vision]\n",
            "  Downloading datasets-2.18.0-py3-none-any.whl (510 kB)\n",
            "\u001b[2K     \u001b[90m━━━━━━━━━━━━━━━━━━━━━━━━━━━━━━━━━━━━━━━━\u001b[0m \u001b[32m510.5/510.5 kB\u001b[0m \u001b[31m5.9 MB/s\u001b[0m eta \u001b[36m0:00:00\u001b[0m\n",
            "\u001b[?25hRequirement already satisfied: filelock in /usr/local/lib/python3.10/dist-packages (from datasets[vision]) (3.13.1)\n",
            "Requirement already satisfied: numpy>=1.17 in /usr/local/lib/python3.10/dist-packages (from datasets[vision]) (1.25.2)\n",
            "Requirement already satisfied: pyarrow>=12.0.0 in /usr/local/lib/python3.10/dist-packages (from datasets[vision]) (14.0.2)\n",
            "Requirement already satisfied: pyarrow-hotfix in /usr/local/lib/python3.10/dist-packages (from datasets[vision]) (0.6)\n",
            "Collecting dill<0.3.9,>=0.3.0 (from datasets[vision])\n",
            "  Downloading dill-0.3.8-py3-none-any.whl (116 kB)\n",
            "\u001b[2K     \u001b[90m━━━━━━━━━━━━━━━━━━━━━━━━━━━━━━━━━━━━━━━━\u001b[0m \u001b[32m116.3/116.3 kB\u001b[0m \u001b[31m13.2 MB/s\u001b[0m eta \u001b[36m0:00:00\u001b[0m\n",
            "\u001b[?25hRequirement already satisfied: pandas in /usr/local/lib/python3.10/dist-packages (from datasets[vision]) (1.5.3)\n",
            "Requirement already satisfied: requests>=2.19.0 in /usr/local/lib/python3.10/dist-packages (from datasets[vision]) (2.31.0)\n",
            "Requirement already satisfied: tqdm>=4.62.1 in /usr/local/lib/python3.10/dist-packages (from datasets[vision]) (4.66.2)\n",
            "Collecting xxhash (from datasets[vision])\n",
            "  Downloading xxhash-3.4.1-cp310-cp310-manylinux_2_17_x86_64.manylinux2014_x86_64.whl (194 kB)\n",
            "\u001b[2K     \u001b[90m━━━━━━━━━━━━━━━━━━━━━━━━━━━━━━━━━━━━━━━━\u001b[0m \u001b[32m194.1/194.1 kB\u001b[0m \u001b[31m17.2 MB/s\u001b[0m eta \u001b[36m0:00:00\u001b[0m\n",
            "\u001b[?25hCollecting multiprocess (from datasets[vision])\n",
            "  Downloading multiprocess-0.70.16-py310-none-any.whl (134 kB)\n",
            "\u001b[2K     \u001b[90m━━━━━━━━━━━━━━━━━━━━━━━━━━━━━━━━━━━━━━━━\u001b[0m \u001b[32m134.8/134.8 kB\u001b[0m \u001b[31m20.9 MB/s\u001b[0m eta \u001b[36m0:00:00\u001b[0m\n",
            "\u001b[?25hRequirement already satisfied: fsspec[http]<=2024.2.0,>=2023.1.0 in /usr/local/lib/python3.10/dist-packages (from datasets[vision]) (2023.6.0)\n",
            "Requirement already satisfied: aiohttp in /usr/local/lib/python3.10/dist-packages (from datasets[vision]) (3.9.3)\n",
            "Requirement already satisfied: huggingface-hub>=0.19.4 in /usr/local/lib/python3.10/dist-packages (from datasets[vision]) (0.20.3)\n",
            "Requirement already satisfied: packaging in /usr/local/lib/python3.10/dist-packages (from datasets[vision]) (24.0)\n",
            "Requirement already satisfied: pyyaml>=5.1 in /usr/local/lib/python3.10/dist-packages (from datasets[vision]) (6.0.1)\n",
            "Requirement already satisfied: Pillow>=6.2.1 in /usr/local/lib/python3.10/dist-packages (from datasets[vision]) (9.4.0)\n",
            "Requirement already satisfied: aiosignal>=1.1.2 in /usr/local/lib/python3.10/dist-packages (from aiohttp->datasets[vision]) (1.3.1)\n",
            "Requirement already satisfied: attrs>=17.3.0 in /usr/local/lib/python3.10/dist-packages (from aiohttp->datasets[vision]) (23.2.0)\n",
            "Requirement already satisfied: frozenlist>=1.1.1 in /usr/local/lib/python3.10/dist-packages (from aiohttp->datasets[vision]) (1.4.1)\n",
            "Requirement already satisfied: multidict<7.0,>=4.5 in /usr/local/lib/python3.10/dist-packages (from aiohttp->datasets[vision]) (6.0.5)\n",
            "Requirement already satisfied: yarl<2.0,>=1.0 in /usr/local/lib/python3.10/dist-packages (from aiohttp->datasets[vision]) (1.9.4)\n",
            "Requirement already satisfied: async-timeout<5.0,>=4.0 in /usr/local/lib/python3.10/dist-packages (from aiohttp->datasets[vision]) (4.0.3)\n",
            "Requirement already satisfied: typing-extensions>=3.7.4.3 in /usr/local/lib/python3.10/dist-packages (from huggingface-hub>=0.19.4->datasets[vision]) (4.10.0)\n",
            "Requirement already satisfied: charset-normalizer<4,>=2 in /usr/local/lib/python3.10/dist-packages (from requests>=2.19.0->datasets[vision]) (3.3.2)\n",
            "Requirement already satisfied: idna<4,>=2.5 in /usr/local/lib/python3.10/dist-packages (from requests>=2.19.0->datasets[vision]) (3.6)\n",
            "Requirement already satisfied: urllib3<3,>=1.21.1 in /usr/local/lib/python3.10/dist-packages (from requests>=2.19.0->datasets[vision]) (2.0.7)\n",
            "Requirement already satisfied: certifi>=2017.4.17 in /usr/local/lib/python3.10/dist-packages (from requests>=2.19.0->datasets[vision]) (2024.2.2)\n",
            "Requirement already satisfied: python-dateutil>=2.8.1 in /usr/local/lib/python3.10/dist-packages (from pandas->datasets[vision]) (2.8.2)\n",
            "Requirement already satisfied: pytz>=2020.1 in /usr/local/lib/python3.10/dist-packages (from pandas->datasets[vision]) (2023.4)\n",
            "Requirement already satisfied: six>=1.5 in /usr/local/lib/python3.10/dist-packages (from python-dateutil>=2.8.1->pandas->datasets[vision]) (1.16.0)\n",
            "Installing collected packages: xxhash, dill, multiprocess, datasets\n",
            "Successfully installed datasets-2.18.0 dill-0.3.8 multiprocess-0.70.16 xxhash-3.4.1\n"
          ]
        }
      ]
    },
    {
      "cell_type": "code",
      "execution_count": null,
      "metadata": {
        "id": "APLkc4zJ_ncE"
      },
      "outputs": [],
      "source": [
        "import numpy as np\n",
        "import pandas as pd\n",
        "import matplotlib.pyplot as plt\n",
        "import tensorflow as tf\n",
        "from datasets import list_datasets, load_dataset\n",
        "from PIL import Image"
      ]
    },
    {
      "cell_type": "code",
      "source": [
        "#Loads dataset from Huggingface\n",
        "dataset = load_dataset(\"Treelar/plant_village\", split = \"train\")"
      ],
      "metadata": {
        "colab": {
          "base_uri": "https://localhost:8080/",
          "height": 272,
          "referenced_widgets": [
            "c8190597fc214e57b18d5acd03a86beb",
            "e6fe4f9a12e84a2ebaef0f9275ae8e59",
            "db7622e4beb94b73af1f9efac70145a0",
            "7540ae97029349d8a9507d9df6801286",
            "114dcac87bf7476eb8bc7bc8821026c5",
            "136b32d36d4747ee8bb60a93012822c0",
            "4a1127bc9a5c4f53b36c0950072bf77e",
            "3ac58fe56e8b4daea44c2fd6e60107fa",
            "c36510bb546c44729eb1088cb22aecf8",
            "1d4f23117b1c4a38b1c3aac95ea713e1",
            "a4f8e36a018d4fdfbc3719f976d2f300",
            "cb1bd29b676b4df097aaf1e0a81c0da4",
            "11ed50e172704c7c9325ece8053622b1",
            "3e79906fdddf4f0ab346b61fc94d250a",
            "a2a5d6a201d846498e9865a3331e7841",
            "4fe57068816a4c9dbeeab463ea445b30",
            "7df337e64b9e415b84def7bc47670048",
            "8e3f7359629d46d7ad2b6e354eb1a8cc",
            "c7ffdddd6ca146f4a5cb058a61cffb89",
            "98f17bf3ccc74685acfd817833ef49b5",
            "087c48ba7f2b4479afbab88c789ae6e8",
            "efcdb78dfb0b4655b2f7e522d717f1eb",
            "fd981bdf81c74304ba53442b9795c2d1",
            "915c655bd46f4a26a00260dae5d086f7",
            "532d33ed357b4cc9b4bb65074bf14d8a",
            "73094db0ff49444da53cfbfa8a22bc4d",
            "575c2fb818a34b438bd439a5f7cdf86b",
            "16be77eed35f4a468cc193fab05a1b8c",
            "063c80ade4b4453cb9628ce1911dbbf0",
            "82aa3c6e351646fe81b4512d6f2ccf2d",
            "d1829c384cd1475e95fa6adb3ffc25ed",
            "fff6f42a93da4e4b956c1e695f589ef8",
            "f55cc2cdeea34344ae175dc1f9576ea1",
            "9906d245c3f3451a8dae2aa804bb4161",
            "3cabfec4a1d149509880d891ed999a22",
            "39a33622b3a94c89b959339f43f0cec7",
            "f3f43c97b6e84e81a74a649f424e4aee",
            "94de3250f26649c2a805acf93687cf03",
            "67f0f78e48ff499daacea51aff502ac3",
            "9393d082fc63435d8688ded394c6a5c9",
            "387c897f56c74a78a1263217e36ef407",
            "367cd0c0501f4f2ebde199115316ac78",
            "b71c4905aa3c4843b638ed67bc14629c",
            "985491aad2da4f83adf05bc4924a5eee"
          ]
        },
        "id": "X-PbRjkDGSgn",
        "outputId": "104120a0-4a69-410b-f2c4-501022f8c227"
      },
      "execution_count": null,
      "outputs": [
        {
          "output_type": "stream",
          "name": "stderr",
          "text": [
            "/usr/local/lib/python3.10/dist-packages/huggingface_hub/utils/_token.py:88: UserWarning: \n",
            "The secret `HF_TOKEN` does not exist in your Colab secrets.\n",
            "To authenticate with the Hugging Face Hub, create a token in your settings tab (https://huggingface.co/settings/tokens), set it as secret in your Google Colab and restart your session.\n",
            "You will be able to reuse this secret in all of your notebooks.\n",
            "Please note that authentication is recommended but still optional to access public models or datasets.\n",
            "  warnings.warn(\n"
          ]
        },
        {
          "output_type": "display_data",
          "data": {
            "text/plain": [
              "Downloading readme:   0%|          | 0.00/1.92k [00:00<?, ?B/s]"
            ],
            "application/vnd.jupyter.widget-view+json": {
              "version_major": 2,
              "version_minor": 0,
              "model_id": "c8190597fc214e57b18d5acd03a86beb"
            }
          },
          "metadata": {}
        },
        {
          "output_type": "display_data",
          "data": {
            "text/plain": [
              "Downloading data:   0%|          | 0.00/401M [00:00<?, ?B/s]"
            ],
            "application/vnd.jupyter.widget-view+json": {
              "version_major": 2,
              "version_minor": 0,
              "model_id": "cb1bd29b676b4df097aaf1e0a81c0da4"
            }
          },
          "metadata": {}
        },
        {
          "output_type": "display_data",
          "data": {
            "text/plain": [
              "Downloading data:   0%|          | 0.00/460M [00:00<?, ?B/s]"
            ],
            "application/vnd.jupyter.widget-view+json": {
              "version_major": 2,
              "version_minor": 0,
              "model_id": "fd981bdf81c74304ba53442b9795c2d1"
            }
          },
          "metadata": {}
        },
        {
          "output_type": "display_data",
          "data": {
            "text/plain": [
              "Generating train split:   0%|          | 0/55447 [00:00<?, ? examples/s]"
            ],
            "application/vnd.jupyter.widget-view+json": {
              "version_major": 2,
              "version_minor": 0,
              "model_id": "9906d245c3f3451a8dae2aa804bb4161"
            }
          },
          "metadata": {}
        }
      ]
    },
    {
      "cell_type": "code",
      "source": [
        "#Split Dataset into two categories training and testing\n",
        "splits = dataset.train_test_split(test_size=0.2)\n",
        "train_ds = splits[\"train\"]\n",
        "test_ds = splits[\"test\"]\n",
        "#train_ds.features"
      ],
      "metadata": {
        "id": "-oSdFu3YdQ__"
      },
      "execution_count": null,
      "outputs": []
    },
    {
      "cell_type": "code",
      "source": [
        "train_ds[0]['image']"
      ],
      "metadata": {
        "colab": {
          "base_uri": "https://localhost:8080/",
          "height": 273
        },
        "id": "0cFat4jueV6W",
        "outputId": "3deda477-d781-4cbe-a3b7-61f76103a9ff"
      },
      "execution_count": null,
      "outputs": [
        {
          "output_type": "execute_result",
          "data": {
            "text/plain": [
              "<PIL.JpegImagePlugin.JpegImageFile image mode=RGB size=256x256>"
            ],
            "image/png": "[encoded data removed]"
          },
          "metadata": {},
          "execution_count": 6
        }
      ]
    },
    {
      "cell_type": "code",
      "source": [
        "id2label = {id: label for id, label in enumerate(train_ds.features['label'].names)}\n",
        "label2id = {label:id for id,label in id2label.items()}"
      ],
      "metadata": {
        "id": "22lTHWKGea_6"
      },
      "execution_count": null,
      "outputs": []
    },
    {
      "cell_type": "code",
      "source": [
        "train_ds[0]"
      ],
      "metadata": {
        "colab": {
          "base_uri": "https://localhost:8080/"
        },
        "id": "piJZ6YRoBVjt",
        "outputId": "a22850f6-0bef-490b-9050-95b88fd39540"
      },
      "execution_count": null,
      "outputs": [
        {
          "output_type": "execute_result",
          "data": {
            "text/plain": [
              "{'image': <PIL.JpegImagePlugin.JpegImageFile image mode=RGB size=256x256>,\n",
              " 'label': 16}"
            ]
          },
          "metadata": {},
          "execution_count": 8
        }
      ]
    },
    {
      "cell_type": "code",
      "source": [
        "#Converts image to a numpy array\n",
        "image_array = tf.keras.utils.img_to_array(dataset[0]['image'], dtype=np.uint8)\n",
        "image_array"
      ],
      "metadata": {
        "colab": {
          "base_uri": "https://localhost:8080/",
          "height": 296
        },
        "id": "xFcqPlc_RdAj",
        "outputId": "762be97e-a39c-4ed1-d3f9-39b7d3e6fe9f"
      },
      "execution_count": null,
      "outputs": [
        {
          "output_type": "execute_result",
          "data": {
            "text/plain": [
              "array([[[160, 148, 152],\n",
              "        [161, 149, 153],\n",
              "        [161, 149, 153],\n",
              "        ...,\n",
              "        [145, 129, 130],\n",
              "        [142, 126, 127],\n",
              "        [140, 124, 125]],\n",
              "\n",
              "       [[160, 148, 152],\n",
              "        [160, 148, 152],\n",
              "        [160, 148, 152],\n",
              "        ...,\n",
              "        [141, 125, 126],\n",
              "        [139, 123, 124],\n",
              "        [138, 122, 123]],\n",
              "\n",
              "       [[162, 150, 154],\n",
              "        [161, 149, 153],\n",
              "        [160, 148, 152],\n",
              "        ...,\n",
              "        [141, 125, 126],\n",
              "        [142, 126, 127],\n",
              "        [142, 126, 127]],\n",
              "\n",
              "       ...,\n",
              "\n",
              "       [[151, 144, 151],\n",
              "        [150, 143, 150],\n",
              "        [148, 141, 148],\n",
              "        ...,\n",
              "        [ 94,  84,  83],\n",
              "        [ 92,  82,  81],\n",
              "        [ 92,  82,  81]],\n",
              "\n",
              "       [[148, 141, 148],\n",
              "        [147, 140, 147],\n",
              "        [147, 140, 147],\n",
              "        ...,\n",
              "        [ 93,  83,  82],\n",
              "        [ 92,  82,  81],\n",
              "        [ 91,  81,  80]],\n",
              "\n",
              "       [[144, 137, 144],\n",
              "        [144, 137, 144],\n",
              "        [145, 138, 145],\n",
              "        ...,\n",
              "        [ 93,  83,  82],\n",
              "        [ 92,  82,  81],\n",
              "        [ 91,  81,  80]]], dtype=uint8)"
            ],
            "text/html": [
              "<style>\n",
              "      .ndarray_repr .ndarray_raw_data {\n",
              "        display: none;\n",
              "      }\n",
              "      .ndarray_repr.show_array .ndarray_raw_data {\n",
              "        display: block;\n",
              "      }\n",
              "      .ndarray_repr.show_array .ndarray_image_preview {\n",
              "        display: none;\n",
              "      }\n",
              "      </style>\n",
              "      <div id=\"id-2547ecf5-56e1-4713-a672-bf82166442e9\" class=\"ndarray_repr\"><pre>ndarray (256, 256, 3) <button style=\"padding: 0 2px;\">show data</button></pre><img src=\"data:image/png;base64,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\" class=\"ndarray_image_preview\" /><pre class=\"ndarray_raw_data\">array([[[160, 148, 152],\n",
              "        [161, 149, 153],\n",
              "        [161, 149, 153],\n",
              "        ...,\n",
              "        [145, 129, 130],\n",
              "        [142, 126, 127],\n",
              "        [140, 124, 125]],\n",
              "\n",
              "       [[160, 148, 152],\n",
              "        [160, 148, 152],\n",
              "        [160, 148, 152],\n",
              "        ...,\n",
              "        [141, 125, 126],\n",
              "        [139, 123, 124],\n",
              "        [138, 122, 123]],\n",
              "\n",
              "       [[162, 150, 154],\n",
              "        [161, 149, 153],\n",
              "        [160, 148, 152],\n",
              "        ...,\n",
              "        [141, 125, 126],\n",
              "        [142, 126, 127],\n",
              "        [142, 126, 127]],\n",
              "\n",
              "       ...,\n",
              "\n",
              "       [[151, 144, 151],\n",
              "        [150, 143, 150],\n",
              "        [148, 141, 148],\n",
              "        ...,\n",
              "        [ 94,  84,  83],\n",
              "        [ 92,  82,  81],\n",
              "        [ 92,  82,  81]],\n",
              "\n",
              "       [[148, 141, 148],\n",
              "        [147, 140, 147],\n",
              "        [147, 140, 147],\n",
              "        ...,\n",
              "        [ 93,  83,  82],\n",
              "        [ 92,  82,  81],\n",
              "        [ 91,  81,  80]],\n",
              "\n",
              "       [[144, 137, 144],\n",
              "        [144, 137, 144],\n",
              "        [145, 138, 145],\n",
              "        ...,\n",
              "        [ 93,  83,  82],\n",
              "        [ 92,  82,  81],\n",
              "        [ 91,  81,  80]]], dtype=uint8)</pre></div><script>\n",
              "      (() => {\n",
              "      const titles = ['show data', 'hide data'];\n",
              "      let index = 0\n",
              "      document.querySelector('#id-2547ecf5-56e1-4713-a672-bf82166442e9 button').onclick = (e) => {\n",
              "        document.querySelector('#id-2547ecf5-56e1-4713-a672-bf82166442e9').classList.toggle('show_array');\n",
              "        index = (++index) % 2;\n",
              "        document.querySelector('#id-2547ecf5-56e1-4713-a672-bf82166442e9 button').textContent = titles[index];\n",
              "        e.preventDefault();\n",
              "        e.stopPropagation();\n",
              "      }\n",
              "      })();\n",
              "    </script>"
            ]
          },
          "metadata": {},
          "execution_count": 9
        }
      ]
    },
    {
      "cell_type": "code",
      "execution_count": null,
      "metadata": {
        "id": "jq2V7YUiJLNQ"
      },
      "outputs": [],
      "source": [
        "#Transforms the image\n",
        "def train_transforms(examples):\n",
        "    #Stores shape, dtype, and numpy array into pixel values\n",
        "    examples['pixel_values'] = [tf.convert_to_tensor(tf.keras.utils.img_to_array(image.resize([192,192]).convert(\"RGB\"))) for image in examples['image']]\n",
        "    #stores labes in labels\n",
        "    examples[\"labels\"] = examples[\"label\"]\n",
        "    return examples"
      ]
    },
    {
      "cell_type": "code",
      "source": [
        "#applies transform to images in dataset\n",
        "prepared_train_ds = train_ds.with_transform(train_transforms)\n",
        "prepared_train_ds[1000]"
      ],
      "metadata": {
        "id": "peyR4dMPTXFm",
        "colab": {
          "base_uri": "https://localhost:8080/"
        },
        "outputId": "84dbcc21-a4b6-4d6f-b627-a4eae4379e42"
      },
      "execution_count": null,
      "outputs": [
        {
          "output_type": "execute_result",
          "data": {
            "text/plain": [
              "{'image': <PIL.JpegImagePlugin.JpegImageFile image mode=RGB size=256x256>,\n",
              " 'label': 36,\n",
              " 'pixel_values': <tf.Tensor: shape=(192, 192, 3), dtype=float32, numpy=\n",
              " array([[[145., 125., 118.],\n",
              "         [151., 131., 124.],\n",
              "         [153., 133., 126.],\n",
              "         ...,\n",
              "         [197., 186., 182.],\n",
              "         [209., 198., 194.],\n",
              "         [204., 193., 189.]],\n",
              " \n",
              "        [[139., 119., 112.],\n",
              "         [144., 124., 117.],\n",
              "         [159., 139., 132.],\n",
              "         ...,\n",
              "         [198., 187., 183.],\n",
              "         [203., 192., 188.],\n",
              "         [213., 202., 198.]],\n",
              " \n",
              "        [[138., 118., 111.],\n",
              "         [144., 124., 117.],\n",
              "         [149., 129., 122.],\n",
              "         ...,\n",
              "         [209., 198., 194.],\n",
              "         [205., 194., 190.],\n",
              "         [207., 196., 192.]],\n",
              " \n",
              "        ...,\n",
              " \n",
              "        [[131., 115., 115.],\n",
              "         [147., 131., 131.],\n",
              "         [149., 133., 133.],\n",
              "         ...,\n",
              "         [157., 142., 145.],\n",
              "         [153., 138., 141.],\n",
              "         [169., 154., 157.]],\n",
              " \n",
              "        [[143., 127., 127.],\n",
              "         [162., 146., 146.],\n",
              "         [147., 131., 131.],\n",
              "         ...,\n",
              "         [161., 146., 149.],\n",
              "         [153., 138., 141.],\n",
              "         [170., 155., 158.]],\n",
              " \n",
              "        [[149., 133., 133.],\n",
              "         [172., 156., 156.],\n",
              "         [159., 143., 143.],\n",
              "         ...,\n",
              "         [161., 146., 149.],\n",
              "         [147., 132., 135.],\n",
              "         [160., 145., 148.]]], dtype=float32)>,\n",
              " 'labels': 36}"
            ]
          },
          "metadata": {},
          "execution_count": 11
        }
      ]
    },
    {
      "cell_type": "code",
      "source": [
        "prepared_train_ds[0]['pixel_values'].shape"
      ],
      "metadata": {
        "colab": {
          "base_uri": "https://localhost:8080/"
        },
        "id": "nQPycimyaINB",
        "outputId": "e1ccc5a4-9f03-4e70-9ee2-026fd53f5382"
      },
      "execution_count": null,
      "outputs": [
        {
          "output_type": "execute_result",
          "data": {
            "text/plain": [
              "TensorShape([192, 192, 3])"
            ]
          },
          "metadata": {},
          "execution_count": 12
        }
      ]
    },
    {
      "cell_type": "code",
      "source": [
        "tf_ds = prepared_train_ds.to_tf_dataset(\n",
        "            columns=[\"pixel_values\"],\n",
        "            label_cols=[\"label\"],\n",
        "            #batch_size=2, #change batch to 32\n",
        "            batch_size=12,\n",
        "            shuffle=True\n",
        "            )"
      ],
      "metadata": {
        "colab": {
          "base_uri": "https://localhost:8080/"
        },
        "id": "qcFWg1-HgWXv",
        "outputId": "061b6405-65cd-4751-af2a-abd68c7b5e87"
      },
      "execution_count": null,
      "outputs": [
        {
          "output_type": "stream",
          "name": "stderr",
          "text": [
            "/usr/local/lib/python3.10/dist-packages/datasets/arrow_dataset.py:401: FutureWarning: The output of `to_tf_dataset` will change when a passing single element list for `labels` or `columns` in the next datasets version. To return a tuple structure rather than dict, pass a single string.\n",
            "Old behaviour: columns=['a'], labels=['labels'] -> (tf.Tensor, tf.Tensor)  \n",
            "             : columns='a', labels='labels' -> (tf.Tensor, tf.Tensor)  \n",
            "New behaviour: columns=['a'],labels=['labels'] -> ({'a': tf.Tensor}, {'labels': tf.Tensor})  \n",
            "             : columns='a', labels='labels' -> (tf.Tensor, tf.Tensor) \n",
            "  warnings.warn(\n"
          ]
        }
      ]
    },
    {
      "cell_type": "code",
      "source": [
        "prepared_test_ds = test_ds.with_transform(train_transforms)\n",
        "val_ds = prepared_test_ds.to_tf_dataset(\n",
        "            columns=[\"pixel_values\"],\n",
        "            label_cols=[\"label\"],\n",
        "            #batch_size=2, #change batch to 32\n",
        "            batch_size=12,\n",
        "            shuffle=True\n",
        "            )"
      ],
      "metadata": {
        "id": "oVxFp21oEKzZ"
      },
      "execution_count": null,
      "outputs": []
    },
    {
      "cell_type": "code",
      "source": [
        "prepared_test_ds[0]['pixel_values'].shape"
      ],
      "metadata": {
        "colab": {
          "base_uri": "https://localhost:8080/"
        },
        "id": "QQRfUV9FEf5X",
        "outputId": "da2ec1f4-a71f-4080-fb00-12970ab42fe0"
      },
      "execution_count": null,
      "outputs": [
        {
          "output_type": "execute_result",
          "data": {
            "text/plain": [
              "TensorShape([192, 192, 3])"
            ]
          },
          "metadata": {},
          "execution_count": 15
        }
      ]
    },
    {
      "cell_type": "code",
      "source": [
        "min_rotation = float(-0.5)\n",
        "max_rotation = float(0.5)\n",
        "min_zoom = float(0.1)\n",
        "max_zoom = float(0.3)\n",
        "min_contrast = float(0.5)\n",
        "max_contrast = float(1.5)\n",
        "min_brightness = float(-0.7)\n",
        "max_brightness = float(0.7)\n",
        "min_translation = float(-0.2)\n",
        "max_translation = float(0.2)\n",
        "\n",
        "def augment_data(seed_value):\n",
        "    augmentation = tf.keras.Sequential([\n",
        "        tf.keras.layers.RandomRotation(\n",
        "            factor = (min_rotation, max_rotation),\n",
        "            seed=seed_value\n",
        "            ),\n",
        "        tf.keras.layers.RandomZoom(\n",
        "            height_factor = (min_zoom, max_zoom),\n",
        "            seed=seed_value\n",
        "            ),\n",
        "        tf.keras.layers.RandomFlip(\n",
        "            mode=\"horizontal_and_vertical\",\n",
        "            seed=seed_value\n",
        "            ),\n",
        "        tf.keras.layers.RandomContrast(\n",
        "            factor = (min_contrast,max_contrast),\n",
        "            seed = seed_value\n",
        "        ),\n",
        "        tf.keras.layers.RandomTranslation(\n",
        "            height_factor = (min_translation, max_translation),\n",
        "            width_factor = (min_translation, max_translation),\n",
        "            seed = seed_value\n",
        "        ),\n",
        "        tf.keras.layers.RandomBrightness(\n",
        "            factor = (min_brightness,max_brightness),\n",
        "            value_range=(0,1),\n",
        "            seed = seed_value\n",
        "        )\n",
        "    ])\n",
        "    return augmentation\n",
        "\n",
        "augmentation_layer = augment_data(64)"
      ],
      "metadata": {
        "id": "Wu9NA1LFF22T"
      },
      "execution_count": null,
      "outputs": []
    },
    {
      "cell_type": "code",
      "source": [
        "num_classes = len(id2label)\n",
        "img_height,img_width = (192,192)\n",
        "\n",
        "model = tf.keras.Sequential([\n",
        "  tf.keras.layers.Rescaling(1./255, input_shape=(img_height, img_width, 3)),\n",
        "  augmentation_layer,\n",
        "  tf.keras.layers.Conv2D(64, 3, padding='same', activation='relu'), #16\n",
        "  tf.keras.layers.MaxPooling2D(3,3),\n",
        "  tf.keras.layers.Conv2D(64, 3, padding='same', activation='relu'), #32\n",
        "  tf.keras.layers.MaxPooling2D(3,3),\n",
        "  tf.keras.layers.Conv2D(128, 3, padding='same', activation='relu'), #128\n",
        "  tf.keras.layers.MaxPooling2D(3,3),\n",
        "  tf.keras.layers.Conv2D(256, 3, padding='same', activation='relu'), #added\n",
        "  tf.keras.layers.MaxPooling2D(3,3),\n",
        "  tf.keras.layers.Flatten(),\n",
        "  tf.keras.layers.Dense(2048, activation='relu'), #128\n",
        "  tf.keras.layers.Dropout(0.3), #To avoid overfitting 0.5\n",
        "  tf.keras.layers.Dense(2048, activation='relu'), #128\n",
        "  tf.keras.layers.Dropout(0.3), #To avoid overfitting 0.5\n",
        "  tf.keras.layers.Dense(num_classes, activation=\"softmax\")\n",
        "])"
      ],
      "metadata": {
        "id": "e3ngrolihXRV"
      },
      "execution_count": null,
      "outputs": []
    },
    {
      "cell_type": "code",
      "source": [
        "opt= tf.keras.optimizers.Adam(learning_rate=0.0001) #slows down learning rate for smoother transition\n",
        "model.compile(optimizer=opt,\n",
        "              loss=tf.keras.losses.SparseCategoricalCrossentropy(from_logits=False),\n",
        "              metrics=tf.keras.metrics.SparseCategoricalAccuracy())"
      ],
      "metadata": {
        "id": "GSfBpAyfltuG"
      },
      "execution_count": null,
      "outputs": []
    },
    {
      "cell_type": "code",
      "source": [
        "model.summary()"
      ],
      "metadata": {
        "colab": {
          "base_uri": "https://localhost:8080/"
        },
        "id": "JwqvKBQblwDg",
        "outputId": "81666056-2a3b-46f0-85e8-d9268e813a29"
      },
      "execution_count": null,
      "outputs": [
        {
          "output_type": "stream",
          "name": "stdout",
          "text": [
            "Model: \"sequential_1\"\n",
            "_________________________________________________________________\n",
            " Layer (type)                Output Shape              Param #   \n",
            "=================================================================\n",
            " rescaling (Rescaling)       (None, 192, 192, 3)       0         \n",
            "                                                                 \n",
            " sequential (Sequential)     (None, 192, 192, 3)       0         \n",
            "                                                                 \n",
            " conv2d (Conv2D)             (None, 192, 192, 64)      1792      \n",
            "                                                                 \n",
            " max_pooling2d (MaxPooling2  (None, 64, 64, 64)        0         \n",
            " D)                                                              \n",
            "                                                                 \n",
            " conv2d_1 (Conv2D)           (None, 64, 64, 64)        36928     \n",
            "                                                                 \n",
            " max_pooling2d_1 (MaxPoolin  (None, 21, 21, 64)        0         \n",
            " g2D)                                                            \n",
            "                                                                 \n",
            " conv2d_2 (Conv2D)           (None, 21, 21, 128)       73856     \n",
            "                                                                 \n",
            " max_pooling2d_2 (MaxPoolin  (None, 7, 7, 128)         0         \n",
            " g2D)                                                            \n",
            "                                                                 \n",
            " conv2d_3 (Conv2D)           (None, 7, 7, 256)         295168    \n",
            "                                                                 \n",
            " max_pooling2d_3 (MaxPoolin  (None, 2, 2, 256)         0         \n",
            " g2D)                                                            \n",
            "                                                                 \n",
            " flatten (Flatten)           (None, 1024)              0         \n",
            "                                                                 \n",
            " dense (Dense)               (None, 2048)              2099200   \n",
            "                                                                 \n",
            " dropout (Dropout)           (None, 2048)              0         \n",
            "                                                                 \n",
            " dense_1 (Dense)             (None, 2048)              4196352   \n",
            "                                                                 \n",
            " dropout_1 (Dropout)         (None, 2048)              0         \n",
            "                                                                 \n",
            " dense_2 (Dense)             (None, 39)                79911     \n",
            "                                                                 \n",
            "=================================================================\n",
            "Total params: 6783207 (25.88 MB)\n",
            "Trainable params: 6783207 (25.88 MB)\n",
            "Non-trainable params: 0 (0.00 Byte)\n",
            "_________________________________________________________________\n"
          ]
        }
      ]
    },
    {
      "cell_type": "code",
      "source": [
        "overfit_protection = tf.keras.callbacks.EarlyStopping(\n",
        "    monitor='val_loss',\n",
        "    patience=3,\n",
        "    start_from_epoch=20\n",
        ")\n",
        "\n",
        "history = model.fit(\n",
        "    tf_ds,\n",
        "    validation_data = val_ds,\n",
        "    epochs=100,\n",
        "    verbose = 2,\n",
        "    callbacks=[overfit_protection]\n",
        ")\n",
        "model.save('categorical_model_v8.keras')"
      ],
      "metadata": {
        "id": "0FbyhLxGl--7",
        "colab": {
          "base_uri": "https://localhost:8080/"
        },
        "outputId": "5efb2c49-9a85-4b5a-f462-64eab0408514"
      },
      "execution_count": null,
      "outputs": [
        {
          "output_type": "stream",
          "name": "stdout",
          "text": [
            "Epoch 1/100\n",
            "3697/3697 - 308s - loss: 2.5005 - sparse_categorical_accuracy: 0.3072 - val_loss: 1.7378 - val_sparse_categorical_accuracy: 0.4868 - 308s/epoch - 83ms/step\n",
            "Epoch 2/100\n",
            "3697/3697 - 266s - loss: 1.6973 - sparse_categorical_accuracy: 0.5030 - val_loss: 1.3767 - val_sparse_categorical_accuracy: 0.5872 - 266s/epoch - 72ms/step\n",
            "Epoch 3/100\n",
            "3697/3697 - 268s - loss: 1.3898 - sparse_categorical_accuracy: 0.5843 - val_loss: 1.2833 - val_sparse_categorical_accuracy: 0.6178 - 268s/epoch - 72ms/step\n",
            "Epoch 4/100\n",
            "3697/3697 - 303s - loss: 1.1800 - sparse_categorical_accuracy: 0.6431 - val_loss: 1.2893 - val_sparse_categorical_accuracy: 0.6398 - 303s/epoch - 82ms/step\n",
            "Epoch 5/100\n",
            "3697/3697 - 275s - loss: 1.0507 - sparse_categorical_accuracy: 0.6822 - val_loss: 0.9612 - val_sparse_categorical_accuracy: 0.7149 - 275s/epoch - 75ms/step\n",
            "Epoch 6/100\n",
            "3697/3697 - 250s - loss: 0.9477 - sparse_categorical_accuracy: 0.7088 - val_loss: 1.0491 - val_sparse_categorical_accuracy: 0.7109 - 250s/epoch - 68ms/step\n",
            "Epoch 7/100\n",
            "3697/3697 - 270s - loss: 0.8613 - sparse_categorical_accuracy: 0.7339 - val_loss: 0.8485 - val_sparse_categorical_accuracy: 0.7451 - 270s/epoch - 73ms/step\n",
            "Epoch 8/100\n",
            "3697/3697 - 307s - loss: 0.7889 - sparse_categorical_accuracy: 0.7566 - val_loss: 0.7044 - val_sparse_categorical_accuracy: 0.7820 - 307s/epoch - 83ms/step\n",
            "Epoch 9/100\n",
            "3697/3697 - 295s - loss: 0.7370 - sparse_categorical_accuracy: 0.7720 - val_loss: 0.8974 - val_sparse_categorical_accuracy: 0.7464 - 295s/epoch - 80ms/step\n",
            "Epoch 10/100\n",
            "3697/3697 - 294s - loss: 0.6888 - sparse_categorical_accuracy: 0.7864 - val_loss: 0.5093 - val_sparse_categorical_accuracy: 0.8408 - 294s/epoch - 79ms/step\n",
            "Epoch 11/100\n",
            "3697/3697 - 305s - loss: 0.6454 - sparse_categorical_accuracy: 0.7997 - val_loss: 0.5761 - val_sparse_categorical_accuracy: 0.8169 - 305s/epoch - 82ms/step\n",
            "Epoch 12/100\n",
            "3697/3697 - 271s - loss: 0.6119 - sparse_categorical_accuracy: 0.8068 - val_loss: 0.6456 - val_sparse_categorical_accuracy: 0.8118 - 271s/epoch - 73ms/step\n",
            "Epoch 13/100\n",
            "3697/3697 - 261s - loss: 0.5774 - sparse_categorical_accuracy: 0.8201 - val_loss: 0.5769 - val_sparse_categorical_accuracy: 0.8288 - 261s/epoch - 71ms/step\n",
            "Epoch 14/100\n",
            "3697/3697 - 312s - loss: 0.5577 - sparse_categorical_accuracy: 0.8248 - val_loss: 0.7467 - val_sparse_categorical_accuracy: 0.7953 - 312s/epoch - 84ms/step\n",
            "Epoch 15/100\n",
            "3697/3697 - 292s - loss: 0.5335 - sparse_categorical_accuracy: 0.8332 - val_loss: 0.5915 - val_sparse_categorical_accuracy: 0.8199 - 292s/epoch - 79ms/step\n",
            "Epoch 16/100\n",
            "3697/3697 - 269s - loss: 0.5096 - sparse_categorical_accuracy: 0.8403 - val_loss: 0.5562 - val_sparse_categorical_accuracy: 0.8322 - 269s/epoch - 73ms/step\n",
            "Epoch 17/100\n",
            "3697/3697 - 255s - loss: 0.4950 - sparse_categorical_accuracy: 0.8448 - val_loss: 0.5882 - val_sparse_categorical_accuracy: 0.8216 - 255s/epoch - 69ms/step\n",
            "Epoch 18/100\n",
            "3697/3697 - 297s - loss: 0.4782 - sparse_categorical_accuracy: 0.8488 - val_loss: 0.4538 - val_sparse_categorical_accuracy: 0.8597 - 297s/epoch - 80ms/step\n",
            "Epoch 19/100\n",
            "3697/3697 - 277s - loss: 0.4507 - sparse_categorical_accuracy: 0.8576 - val_loss: 0.4130 - val_sparse_categorical_accuracy: 0.8720 - 277s/epoch - 75ms/step\n",
            "Epoch 20/100\n",
            "3697/3697 - 280s - loss: 0.4337 - sparse_categorical_accuracy: 0.8640 - val_loss: 0.4180 - val_sparse_categorical_accuracy: 0.8689 - 280s/epoch - 76ms/step\n",
            "Epoch 21/100\n",
            "3697/3697 - 304s - loss: 0.4337 - sparse_categorical_accuracy: 0.8643 - val_loss: 0.4951 - val_sparse_categorical_accuracy: 0.8545 - 304s/epoch - 82ms/step\n",
            "Epoch 22/100\n",
            "3697/3697 - 265s - loss: 0.4299 - sparse_categorical_accuracy: 0.8656 - val_loss: 0.3519 - val_sparse_categorical_accuracy: 0.8911 - 265s/epoch - 72ms/step\n",
            "Epoch 23/100\n",
            "3697/3697 - 259s - loss: 0.4134 - sparse_categorical_accuracy: 0.8675 - val_loss: 0.3087 - val_sparse_categorical_accuracy: 0.9005 - 259s/epoch - 70ms/step\n",
            "Epoch 24/100\n",
            "3697/3697 - 311s - loss: 0.3977 - sparse_categorical_accuracy: 0.8737 - val_loss: 0.4510 - val_sparse_categorical_accuracy: 0.8621 - 311s/epoch - 84ms/step\n",
            "Epoch 25/100\n",
            "3697/3697 - 255s - loss: 0.3912 - sparse_categorical_accuracy: 0.8755 - val_loss: 0.5492 - val_sparse_categorical_accuracy: 0.8506 - 255s/epoch - 69ms/step\n",
            "Epoch 26/100\n",
            "3697/3697 - 285s - loss: 0.3879 - sparse_categorical_accuracy: 0.8788 - val_loss: 0.4092 - val_sparse_categorical_accuracy: 0.8789 - 285s/epoch - 77ms/step\n"
          ]
        }
      ]
    },
    {
      "cell_type": "markdown",
      "source": [
        "\n",
        "\n",
        "```\n",
        "# This is formatted as code\n",
        "Epoch 1/100\n",
        "4159/4159 [==============================] - 280s 67ms/step - loss: 2.3531 - sparse_categorical_accuracy: 0.3416 - val_loss: 1.6005 - val_sparse_categorical_accuracy: 0.5037\n",
        "Epoch 2/100\n",
        "4159/4159 [==============================] - 274s 66ms/step - loss: 1.5874 - sparse_categorical_accuracy: 0.5298 - val_loss: 1.5766 - val_sparse_categorical_accuracy: 0.5484\n",
        "Epoch 3/100\n",
        "4159/4159 [==============================] - 280s 67ms/step - loss: 1.2767 - sparse_categorical_accuracy: 0.6164 - val_loss: 1.4591 - val_sparse_categorical_accuracy: 0.6085\n",
        "Epoch 4/100\n",
        "4159/4159 [==============================] - 250s 60ms/step - loss: 1.0949 - sparse_categorical_accuracy: 0.6675 - val_loss: 1.3286 - val_sparse_categorical_accuracy: 0.6294\n",
        "Epoch 5/100\n",
        "4159/4159 [==============================] - 254s 61ms/step - loss: 0.9667 - sparse_categorical_accuracy: 0.7052 - val_loss: 1.6083 - val_sparse_categorical_accuracy: 0.6085\n",
        "Epoch 6/100\n",
        "4159/4159 [==============================] - 280s 67ms/step - loss: 0.8690 - sparse_categorical_accuracy: 0.7311 - val_loss: 1.1042 - val_sparse_categorical_accuracy: 0.6889\n",
        "Epoch 7/100\n",
        "4159/4159 [==============================] - 269s 65ms/step - loss: 0.7986 - sparse_categorical_accuracy: 0.7538 - val_loss: 0.9677 - val_sparse_categorical_accuracy: 0.7317\n",
        "Epoch 8/100\n",
        "4159/4159 [==============================] - 250s 60ms/step - loss: 0.7226 - sparse_categorical_accuracy: 0.7762 - val_loss: 0.6987 - val_sparse_categorical_accuracy: 0.7881\n",
        "Epoch 9/100\n",
        "4159/4159 [==============================] - 282s 68ms/step - loss: 0.6746 - sparse_categorical_accuracy: 0.7917 - val_loss: 0.5788 - val_sparse_categorical_accuracy: 0.8225\n",
        "Epoch 10/100\n",
        "4159/4159 [==============================] - 266s 64ms/step - loss: 0.6294 - sparse_categorical_accuracy: 0.8042 - val_loss: 0.6645 - val_sparse_categorical_accuracy: 0.8052\n",
        "Epoch 11/100\n",
        "4159/4159 [==============================] - 268s 64ms/step - loss: 0.5904 - sparse_categorical_accuracy: 0.8147 - val_loss: 0.5660 - val_sparse_categorical_accuracy: 0.8213\n",
        "Epoch 12/100\n",
        "4159/4159 [==============================] - 260s 63ms/step - loss: 0.5593 - sparse_categorical_accuracy: 0.8249 - val_loss: 0.6638 - val_sparse_categorical_accuracy: 0.8027\n",
        "Epoch 13/100\n",
        "4159/4159 [==============================] - 235s 56ms/step - loss: 0.5277 - sparse_categorical_accuracy: 0.8339 - val_loss: 0.6407 - val_sparse_categorical_accuracy: 0.8063\n",
        "Epoch 14/100\n",
        "4159/4159 [==============================] - 269s 65ms/step - loss: 0.5043 - sparse_categorical_accuracy: 0.8415 - val_loss: 0.5214 - val_sparse_categorical_accuracy: 0.8487\n",
        "Epoch 15/100\n",
        "4159/4159 [==============================] - 284s 68ms/step - loss: 0.4871 - sparse_categorical_accuracy: 0.8483 - val_loss: 0.4733 - val_sparse_categorical_accuracy: 0.8563\n",
        "Epoch 16/100\n",
        "4159/4159 [==============================] - 265s 64ms/step - loss: 0.4617 - sparse_categorical_accuracy: 0.8550 - val_loss: 0.3432 - val_sparse_categorical_accuracy: 0.8826\n",
        "Epoch 17/100\n",
        "4159/4159 [==============================] - 262s 63ms/step - loss: 0.4533 - sparse_categorical_accuracy: 0.8559 - val_loss: 0.4331 - val_sparse_categorical_accuracy: 0.8637\n",
        "Epoch 18/100\n",
        "4159/4159 [==============================] - 250s 60ms/step - loss: 0.4317 - sparse_categorical_accuracy: 0.8656 - val_loss: 0.5905 - val_sparse_categorical_accuracy: 0.8362\n",
        "Epoch 19/100\n",
        "4159/4159 [==============================] - 262s 63ms/step - loss: 0.4240 - sparse_categorical_accuracy: 0.8651 - val_loss: 0.3971 - val_sparse_categorical_accuracy: 0.8810\n",
        "Epoch 20/100\n",
        "4159/4159 [==============================] - 251s 60ms/step - loss: 0.4086 - sparse_categorical_accuracy: 0.8709 - val_loss: 0.5026 - val_sparse_categorical_accuracy: 0.8588\n",
        "Epoch 21/100\n",
        "4159/4159 [==============================] - 238s 57ms/step - loss: 0.3958 - sparse_categorical_accuracy: 0.8744 - val_loss: 0.4000 - val_sparse_categorical_accuracy: 0.8808\n",
        "Epoch 22/100\n",
        "4159/4159 [==============================] - 271s 65ms/step - loss: 0.3872 - sparse_categorical_accuracy: 0.8785 - val_loss: 0.4670 - val_sparse_categorical_accuracy: 0.8638\n",
        "Epoch 23/100\n",
        "4159/4159 [==============================] - 276s 66ms/step - loss: 0.3756 - sparse_categorical_accuracy: 0.8799 - val_loss: 0.4647 - val_sparse_categorical_accuracy: 0.8707\n",
        "Epoch 24/100\n",
        "4159/4159 [==============================] - 297s 71ms/step - loss: 0.3738 - sparse_categorical_accuracy: 0.8805 - val_loss: 0.6769 - val_sparse_categorical_accuracy: 0.8243\n",
        "Epoch 25/100\n",
        "4159/4159 [==============================] - 283s 68ms/step - loss: 0.3656 - sparse_categorical_accuracy: 0.8854 - val_loss: 0.4635 - val_sparse_categorical_accuracy: 0.8653\n",
        "Epoch 26/100\n",
        "4159/4159 [==============================] - 265s 64ms/step - loss: 0.3555 - sparse_categorical_accuracy: 0.8866 - val_loss: 0.6412 - val_sparse_categorical_accuracy: 0.8422\n",
        "Epoch 27/100\n",
        "4159/4159 [==============================] - 268s 64ms/step - loss: 0.3448 - sparse_categorical_accuracy: 0.8913 - val_loss: 0.4508 - val_sparse_categorical_accuracy: 0.8674\n",
        "Epoch 28/100\n",
        "4159/4159 [==============================] - 265s 64ms/step - loss: 0.3378 - sparse_categorical_accuracy: 0.8936 - val_loss: 0.4355 - val_sparse_categorical_accuracy: 0.8765\n",
        "Epoch 29/100\n",
        "4159/4159 [==============================] - 239s 58ms/step - loss: 0.3343 - sparse_categorical_accuracy: 0.8939 - val_loss: 0.3479 - val_sparse_categorical_accuracy: 0.8952\n",
        "Epoch 30/100\n",
        "4159/4159 [==============================] - 276s 66ms/step - loss: 0.3278 - sparse_categorical_accuracy: 0.8958 - val_loss: 0.3419 - val_sparse_categorical_accuracy: 0.9035\n",
        "Epoch 31/100\n",
        "4159/4159 [==============================] - 270s 65ms/step - loss: 0.3241 - sparse_categorical_accuracy: 0.8976 - val_loss: 0.4017 - val_sparse_categorical_accuracy: 0.8936\n",
        "Epoch 32/100\n",
        "4159/4159 [==============================] - 269s 65ms/step - loss: 0.3218 - sparse_categorical_accuracy: 0.8982 - val_loss: 0.4782 - val_sparse_categorical_accuracy: 0.8794\n",
        "Epoch 33/100\n",
        "4159/4159 [==============================] - 275s 66ms/step - loss: 0.3111 - sparse_categorical_accuracy: 0.9025 - val_loss: 0.4441 - val_sparse_categorical_accuracy: 0.8786\n",
        "Epoch 34/100\n",
        "4159/4159 [==============================] - 296s 71ms/step - loss: 0.3078 - sparse_categorical_accuracy: 0.9010 - val_loss: 0.3852 - val_sparse_categorical_accuracy: 0.8925\n",
        "Epoch 35/100\n",
        "4159/4159 [==============================] - 292s 70ms/step - loss: 0.3026 - sparse_categorical_accuracy: 0.9032 - val_loss: 0.4596 - val_sparse_categorical_accuracy: 0.8795\n",
        "Epoch 36/100\n",
        "4159/4159 [==============================] - 274s 66ms/step - loss: 0.3009 - sparse_categorical_accuracy: 0.9042 - val_loss: 0.3123 - val_sparse_categorical_accuracy: 0.9035\n",
        "Epoch 37/100\n",
        "4159/4159 [==============================] - 260s 63ms/step - loss: 0.2868 - sparse_categorical_accuracy: 0.9091 - val_loss: 0.3724 - val_sparse_categorical_accuracy: 0.8961\n",
        "Epoch 38/100\n",
        "4159/4159 [==============================] - 274s 66ms/step - loss: 0.2942 - sparse_categorical_accuracy: 0.9064 - val_loss: 0.3415 - val_sparse_categorical_accuracy: 0.9109\n",
        "Epoch 39/100\n",
        "4159/4159 [==============================] - 284s 68ms/step - loss: 0.2887 - sparse_categorical_accuracy: 0.9091 - val_loss: 0.3024 - val_sparse_categorical_accuracy: 0.9142\n",
        "Epoch 40/100\n",
        "4159/4159 [==============================] - 274s 66ms/step - loss: 0.2863 - sparse_categorical_accuracy: 0.9107 - val_loss: 0.3471 - val_sparse_categorical_accuracy: 0.9039\n",
        "Epoch 41/100\n",
        "4159/4159 [==============================] - 292s 70ms/step - loss: 0.2750 - sparse_categorical_accuracy: 0.9122 - val_loss: 0.3937 - val_sparse_categorical_accuracy: 0.9014\n",
        "Epoch 42/100\n",
        "4159/4159 [==============================] - 273s 66ms/step - loss: 0.2782 - sparse_categorical_accuracy: 0.9121 - val_loss: 0.2290 - val_sparse_categorical_accuracy: 0.9300\n",
        "Epoch 43/100\n",
        "4159/4159 [==============================] - 271s 65ms/step - loss: 0.2826 - sparse_categorical_accuracy: 0.9110 - val_loss: 0.2265 - val_sparse_categorical_accuracy: 0.9360\n",
        "Epoch 44/100\n",
        "4159/4159 [==============================] - 252s 61ms/step - loss: 0.2730 - sparse_categorical_accuracy: 0.9134 - val_loss: 0.2986 - val_sparse_categorical_accuracy: 0.9142\n",
        "Epoch 45/100\n",
        "4159/4159 [==============================] - 261s 63ms/step - loss: 0.2685 - sparse_categorical_accuracy: 0.9156 - val_loss: 0.2236 - val_sparse_categorical_accuracy: 0.9356\n",
        "Epoch 46/100\n",
        "4159/4159 [==============================] - 292s 70ms/step - loss: 0.2690 - sparse_categorical_accuracy: 0.9149 - val_loss: 0.2514 - val_sparse_categorical_accuracy: 0.9255\n",
        "Epoch 47/100\n",
        "4159/4159 [==============================] - 278s 67ms/step - loss: 0.2585 - sparse_categorical_accuracy: 0.9196 - val_loss: 0.3882 - val_sparse_categorical_accuracy: 0.9008\n",
        "Epoch 48/100\n",
        "4159/4159 [==============================] - 275s 66ms/step - loss: 0.2657 - sparse_categorical_accuracy: 0.9156 - val_loss: 0.2210 - val_sparse_categorical_accuracy: 0.9349\n",
        "Epoch 49/100\n",
        "4159/4159 [==============================] - 270s 65ms/step - loss: 0.2635 - sparse_categorical_accuracy: 0.9174 - val_loss: 0.3215 - val_sparse_categorical_accuracy: 0.9165\n",
        "Epoch 50/100\n",
        "4159/4159 [==============================] - 295s 71ms/step - loss: 0.2612 - sparse_categorical_accuracy: 0.9178 - val_loss: 0.3644 - val_sparse_categorical_accuracy: 0.9046\n",
        "Epoch 51/100\n",
        "4159/4159 [==============================] - 291s 70ms/step - loss: 0.2555 - sparse_categorical_accuracy: 0.9193 - val_loss: 0.3588 - val_sparse_categorical_accuracy: 0.9042\n",
        "Epoch 52/100\n",
        "4159/4159 [==============================] - 256s 62ms/step - loss: 0.2579 - sparse_categorical_accuracy: 0.9200 - val_loss: 0.3360 - val_sparse_categorical_accuracy: 0.9133\n",
        "Epoch 53/100\n",
        "4159/4159 [==============================] - 264s 63ms/step - loss: 0.2551 - sparse_categorical_accuracy: 0.9191 - val_loss: 0.2275 - val_sparse_categorical_accuracy: 0.9369\n",
        "Epoch 54/100\n",
        "4159/4159 [==============================] - 277s 67ms/step - loss: 0.2422 - sparse_categorical_accuracy: 0.9237 - val_loss: 0.2640 - val_sparse_categorical_accuracy: 0.9235\n",
        "Epoch 55/100\n",
        "4159/4159 [==============================] - 292s 70ms/step - loss: 0.2483 - sparse_categorical_accuracy: 0.9213 - val_loss: 0.2136 - val_sparse_categorical_accuracy: 0.9392\n",
        "Epoch 56/100\n",
        "4159/4159 [==============================] - 296s 71ms/step - loss: 0.2467 - sparse_categorical_accuracy: 0.9211 - val_loss: 0.3449 - val_sparse_categorical_accuracy: 0.9113\n",
        "Epoch 57/100\n",
        "4159/4159 [==============================] - 269s 65ms/step - loss: 0.2400 - sparse_categorical_accuracy: 0.9241 - val_loss: 0.2222 - val_sparse_categorical_accuracy: 0.9392\n",
        "Epoch 58/100\n",
        "4159/4159 [==============================] - 292s 70ms/step - loss: 0.2414 - sparse_categorical_accuracy: 0.9244 - val_loss: 0.3177 - val_sparse_categorical_accuracy: 0.9160\n",
        "```\n",
        "\n"
      ],
      "metadata": {
        "id": "pEFvfgj1Rokq"
      }
    },
    {
      "cell_type": "code",
      "source": [
        "class_names = []\n",
        "for label in id2label.values():\n",
        "  class_names.append(label)\n",
        "class_names"
      ],
      "metadata": {
        "colab": {
          "base_uri": "https://localhost:8080/"
        },
        "id": "JLgIobOxF0Ke",
        "outputId": "bc457ad2-3da4-44c6-af7f-77ca617992c2"
      },
      "execution_count": null,
      "outputs": [
        {
          "output_type": "execute_result",
          "data": {
            "text/plain": [
              "['Apple___Apple_scab',\n",
              " 'Apple___Black_rot',\n",
              " 'Apple___Cedar_apple_rust',\n",
              " 'Apple___healthy',\n",
              " 'Background_without_leaves',\n",
              " 'Blueberry___healthy',\n",
              " 'Cherry___Powdery_mildew',\n",
              " 'Cherry___healthy',\n",
              " 'Corn___Cercospora_leaf_spot Gray_leaf_spot',\n",
              " 'Corn___Common_rust',\n",
              " 'Corn___Northern_Leaf_Blight',\n",
              " 'Corn___healthy',\n",
              " 'Grape___Black_rot',\n",
              " 'Grape___Esca_(Black_Measles)',\n",
              " 'Grape___Leaf_blight_(Isariopsis_Leaf_Spot)',\n",
              " 'Grape___healthy',\n",
              " 'Orange___Haunglongbing_(Citrus_greening)',\n",
              " 'Peach___Bacterial_spot',\n",
              " 'Peach___healthy',\n",
              " 'Pepper,_bell___Bacterial_spot',\n",
              " 'Pepper,_bell___healthy',\n",
              " 'Potato___Early_blight',\n",
              " 'Potato___Late_blight',\n",
              " 'Potato___healthy',\n",
              " 'Raspberry___healthy',\n",
              " 'Soybean___healthy',\n",
              " 'Squash___Powdery_mildew',\n",
              " 'Strawberry___Leaf_scorch',\n",
              " 'Strawberry___healthy',\n",
              " 'Tomato___Bacterial_spot',\n",
              " 'Tomato___Early_blight',\n",
              " 'Tomato___Late_blight',\n",
              " 'Tomato___Leaf_Mold',\n",
              " 'Tomato___Septoria_leaf_spot',\n",
              " 'Tomato___Spider_mites Two-spotted_spider_mite',\n",
              " 'Tomato___Target_Spot',\n",
              " 'Tomato___Tomato_Yellow_Leaf_Curl_Virus',\n",
              " 'Tomato___Tomato_mosaic_virus',\n",
              " 'Tomato___healthy']"
            ]
          },
          "metadata": {},
          "execution_count": 21
        }
      ]
    },
    {
      "cell_type": "code",
      "source": [
        "img_path = '/content/apple_scab.jpg'\n",
        "img = Image.open(img_path).convert(\"RGB\")\n",
        "#img = img.resize((256,192),resample=Image.BILINEAR)\n",
        "#img = img.crop((0,0,192,192))\n",
        "img = img.resize((192,192),resample=Image.BILINEAR)\n",
        "img_array = tf.keras.utils.img_to_array(img, dtype=np.uint8)\n",
        "img_array = img_array[np.newaxis]\n",
        "img"
      ],
      "metadata": {
        "id": "LpY5U_efBksN",
        "colab": {
          "base_uri": "https://localhost:8080/",
          "height": 209
        },
        "outputId": "d42e63db-5a3a-42fb-fb14-1f5d6b9434b5"
      },
      "execution_count": null,
      "outputs": [
        {
          "output_type": "execute_result",
          "data": {
            "text/plain": [
              "<PIL.Image.Image image mode=RGB size=192x192>"
            ],
            "image/png": "[encoded data removed]"
          },
          "metadata": {},
          "execution_count": 76
        }
      ]
    },
    {
      "cell_type": "code",
      "source": [
        "prediction = model.predict(img_array)\n",
        "test_label = class_names[np.argmax(prediction[0])]\n",
        "test_label"
      ],
      "metadata": {
        "colab": {
          "base_uri": "https://localhost:8080/",
          "height": 53
        },
        "id": "su0vFN9KByLL",
        "outputId": "f5dd37b3-3c6c-4f94-cdbf-f68a2ed1db5d"
      },
      "execution_count": null,
      "outputs": [
        {
          "output_type": "stream",
          "name": "stdout",
          "text": [
            "1/1 [==============================] - 0s 18ms/step\n"
          ]
        },
        {
          "output_type": "execute_result",
          "data": {
            "text/plain": [
              "'Apple___Apple_scab'"
            ],
            "application/vnd.google.colaboratory.intrinsic+json": {
              "type": "string"
            }
          },
          "metadata": {},
          "execution_count": 77
        }
      ]
    },
    {
      "cell_type": "code",
      "source": [
        "import random\n",
        "verification_index = random.randint(0,5544)\n",
        "test_image = prepared_test_ds[verification_index]['pixel_values']\n",
        "test_image = test_image[np.newaxis]\n",
        "test_image.shape\n",
        "test_prediction = model.predict(test_image)\n",
        "test_label = class_names[np.argmax(test_prediction[0])]\n",
        "test_label"
      ],
      "metadata": {
        "colab": {
          "base_uri": "https://localhost:8080/",
          "height": 53
        },
        "id": "rySxWeKPI1Jj",
        "outputId": "77dafb83-4f92-4704-8852-d79fcc77231c"
      },
      "execution_count": null,
      "outputs": [
        {
          "output_type": "stream",
          "name": "stdout",
          "text": [
            "1/1 [==============================] - 0s 17ms/step\n"
          ]
        },
        {
          "output_type": "execute_result",
          "data": {
            "text/plain": [
              "'Peach___Bacterial_spot'"
            ],
            "application/vnd.google.colaboratory.intrinsic+json": {
              "type": "string"
            }
          },
          "metadata": {},
          "execution_count": 79
        }
      ]
    },
    {
      "cell_type": "code",
      "source": [
        "class_names[prepared_test_ds[verification_index]['label']]"
      ],
      "metadata": {
        "colab": {
          "base_uri": "https://localhost:8080/",
          "height": 35
        },
        "id": "C5IRhFpDKMUe",
        "outputId": "2ca59169-73ba-4168-9b8f-3234ae2626f3"
      },
      "execution_count": null,
      "outputs": [
        {
          "output_type": "execute_result",
          "data": {
            "text/plain": [
              "'Grape___Esca_(Black_Measles)'"
            ],
            "application/vnd.google.colaboratory.intrinsic+json": {
              "type": "string"
            }
          },
          "metadata": {},
          "execution_count": 27
        }
      ]
    },
    {
      "cell_type": "code",
      "source": [
        "verification_image = tf.keras.utils.img_to_array(prepared_test_ds[verification_index]['pixel_values'], dtype=np.uint8)\n",
        "verification_image"
      ],
      "metadata": {
        "colab": {
          "base_uri": "https://localhost:8080/",
          "height": 232
        },
        "id": "lF8_r9VOsL5c",
        "outputId": "3cb2d2f1-2d06-493a-fdd4-2900904dd7e4"
      },
      "execution_count": null,
      "outputs": [
        {
          "output_type": "execute_result",
          "data": {
            "text/plain": [
              "array([[[172, 161, 159],\n",
              "        [152, 141, 139],\n",
              "        [154, 143, 141],\n",
              "        ...,\n",
              "        [157, 144, 136],\n",
              "        [167, 154, 146],\n",
              "        [153, 140, 132]],\n",
              "\n",
              "       [[168, 157, 155],\n",
              "        [144, 133, 131],\n",
              "        [151, 140, 138],\n",
              "        ...,\n",
              "        [147, 134, 126],\n",
              "        [160, 147, 139],\n",
              "        [154, 141, 133]],\n",
              "\n",
              "       [[170, 159, 157],\n",
              "        [167, 156, 154],\n",
              "        [148, 137, 135],\n",
              "        ...,\n",
              "        [151, 138, 130],\n",
              "        [143, 130, 122],\n",
              "        [160, 147, 139]],\n",
              "\n",
              "       ...,\n",
              "\n",
              "       [[175, 161, 158],\n",
              "        [172, 158, 155],\n",
              "        [169, 155, 152],\n",
              "        ...,\n",
              "        [147, 132, 125],\n",
              "        [141, 126, 119],\n",
              "        [133, 118, 111]],\n",
              "\n",
              "       [[185, 171, 168],\n",
              "        [178, 164, 161],\n",
              "        [169, 155, 152],\n",
              "        ...,\n",
              "        [151, 136, 129],\n",
              "        [136, 121, 114],\n",
              "        [128, 113, 106]],\n",
              "\n",
              "       [[182, 168, 165],\n",
              "        [174, 160, 157],\n",
              "        [163, 149, 146],\n",
              "        ...,\n",
              "        [139, 124, 117],\n",
              "        [136, 121, 114],\n",
              "        [146, 131, 124]]], dtype=uint8)"
            ],
            "text/html": [
              "<style>\n",
              "      .ndarray_repr .ndarray_raw_data {\n",
              "        display: none;\n",
              "      }\n",
              "      .ndarray_repr.show_array .ndarray_raw_data {\n",
              "        display: block;\n",
              "      }\n",
              "      .ndarray_repr.show_array .ndarray_image_preview {\n",
              "        display: none;\n",
              "      }\n",
              "      </style>\n",
              "      <div id=\"id-4bee0c4f-36f3-491d-9593-de33d72062fb\" class=\"ndarray_repr\"><pre>ndarray (192, 192, 3) <button style=\"padding: 0 2px;\">show data</button></pre><img src=\"data:image/png;base64,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\" class=\"ndarray_image_preview\" /><pre class=\"ndarray_raw_data\">array([[[172, 161, 159],\n",
              "        [152, 141, 139],\n",
              "        [154, 143, 141],\n",
              "        ...,\n",
              "        [157, 144, 136],\n",
              "        [167, 154, 146],\n",
              "        [153, 140, 132]],\n",
              "\n",
              "       [[168, 157, 155],\n",
              "        [144, 133, 131],\n",
              "        [151, 140, 138],\n",
              "        ...,\n",
              "        [147, 134, 126],\n",
              "        [160, 147, 139],\n",
              "        [154, 141, 133]],\n",
              "\n",
              "       [[170, 159, 157],\n",
              "        [167, 156, 154],\n",
              "        [148, 137, 135],\n",
              "        ...,\n",
              "        [151, 138, 130],\n",
              "        [143, 130, 122],\n",
              "        [160, 147, 139]],\n",
              "\n",
              "       ...,\n",
              "\n",
              "       [[175, 161, 158],\n",
              "        [172, 158, 155],\n",
              "        [169, 155, 152],\n",
              "        ...,\n",
              "        [147, 132, 125],\n",
              "        [141, 126, 119],\n",
              "        [133, 118, 111]],\n",
              "\n",
              "       [[185, 171, 168],\n",
              "        [178, 164, 161],\n",
              "        [169, 155, 152],\n",
              "        ...,\n",
              "        [151, 136, 129],\n",
              "        [136, 121, 114],\n",
              "        [128, 113, 106]],\n",
              "\n",
              "       [[182, 168, 165],\n",
              "        [174, 160, 157],\n",
              "        [163, 149, 146],\n",
              "        ...,\n",
              "        [139, 124, 117],\n",
              "        [136, 121, 114],\n",
              "        [146, 131, 124]]], dtype=uint8)</pre></div><script>\n",
              "      (() => {\n",
              "      const titles = ['show data', 'hide data'];\n",
              "      let index = 0\n",
              "      document.querySelector('#id-4bee0c4f-36f3-491d-9593-de33d72062fb button').onclick = (e) => {\n",
              "        document.querySelector('#id-4bee0c4f-36f3-491d-9593-de33d72062fb').classList.toggle('show_array');\n",
              "        index = (++index) % 2;\n",
              "        document.querySelector('#id-4bee0c4f-36f3-491d-9593-de33d72062fb button').textContent = titles[index];\n",
              "        e.preventDefault();\n",
              "        e.stopPropagation();\n",
              "      }\n",
              "      })();\n",
              "    </script>"
            ]
          },
          "metadata": {},
          "execution_count": 34
        }
      ]
    },
    {
      "cell_type": "code",
      "source": [
        "loss, acc = model.evaluate(val_ds, verbose=2)"
      ],
      "metadata": {
        "colab": {
          "base_uri": "https://localhost:8080/"
        },
        "id": "W1aM9nmGEz95",
        "outputId": "b20edd67-aae0-4466-8bbb-696c08426d3c"
      },
      "execution_count": null,
      "outputs": [
        {
          "output_type": "stream",
          "name": "stdout",
          "text": [
            "925/925 - 40s - loss: 0.4092 - sparse_categorical_accuracy: 0.8789 - 40s/epoch - 44ms/step\n"
          ]
        }
      ]
    }
  ],
  "metadata": {
    "colab": {
      "provenance": [],
      "gpuType": "T4",
      "include_colab_link": true
    },
    "kernelspec": {
      "display_name": "Python 3",
      "name": "python3"
    },
    "language_info": {
      "name": "python"
    },
    "widgets": {
      "application/vnd.jupyter.widget-state+json": {
        "c8190597fc214e57b18d5acd03a86beb": {
          "model_module": "@jupyter-widgets/controls",
          "model_name": "HBoxModel",
          "model_module_version": "1.5.0",
          "state": {
            "_dom_classes": [],
            "_model_module": "@jupyter-widgets/controls",
            "_model_module_version": "1.5.0",
            "_model_name": "HBoxModel",
            "_view_count": null,
            "_view_module": "@jupyter-widgets/controls",
            "_view_module_version": "1.5.0",
            "_view_name": "HBoxView",
            "box_style": "",
            "children": [
              "IPY_MODEL_e6fe4f9a12e84a2ebaef0f9275ae8e59",
              "IPY_MODEL_db7622e4beb94b73af1f9efac70145a0",
              "IPY_MODEL_7540ae97029349d8a9507d9df6801286"
            ],
            "layout": "IPY_MODEL_114dcac87bf7476eb8bc7bc8821026c5"
          }
        },
        "e6fe4f9a12e84a2ebaef0f9275ae8e59": {
          "model_module": "@jupyter-widgets/controls",
          "model_name": "HTMLModel",
          "model_module_version": "1.5.0",
          "state": {
            "_dom_classes": [],
            "_model_module": "@jupyter-widgets/controls",
            "_model_module_version": "1.5.0",
            "_model_name": "HTMLModel",
            "_view_count": null,
            "_view_module": "@jupyter-widgets/controls",
            "_view_module_version": "1.5.0",
            "_view_name": "HTMLView",
            "description": "",
            "description_tooltip": null,
            "layout": "IPY_MODEL_136b32d36d4747ee8bb60a93012822c0",
            "placeholder": "​",
            "style": "IPY_MODEL_4a1127bc9a5c4f53b36c0950072bf77e",
            "value": "Downloading readme: 100%"
          }
        },
        "db7622e4beb94b73af1f9efac70145a0": {
          "model_module": "@jupyter-widgets/controls",
          "model_name": "FloatProgressModel",
          "model_module_version": "1.5.0",
          "state": {
            "_dom_classes": [],
            "_model_module": "@jupyter-widgets/controls",
            "_model_module_version": "1.5.0",
            "_model_name": "FloatProgressModel",
            "_view_count": null,
            "_view_module": "@jupyter-widgets/controls",
            "_view_module_version": "1.5.0",
            "_view_name": "ProgressView",
            "bar_style": "success",
            "description": "",
            "description_tooltip": null,
            "layout": "IPY_MODEL_3ac58fe56e8b4daea44c2fd6e60107fa",
            "max": 1924,
            "min": 0,
            "orientation": "horizontal",
            "style": "IPY_MODEL_c36510bb546c44729eb1088cb22aecf8",
            "value": 1924
          }
        },
        "7540ae97029349d8a9507d9df6801286": {
          "model_module": "@jupyter-widgets/controls",
          "model_name": "HTMLModel",
          "model_module_version": "1.5.0",
          "state": {
            "_dom_classes": [],
            "_model_module": "@jupyter-widgets/controls",
            "_model_module_version": "1.5.0",
            "_model_name": "HTMLModel",
            "_view_count": null,
            "_view_module": "@jupyter-widgets/controls",
            "_view_module_version": "1.5.0",
            "_view_name": "HTMLView",
            "description": "",
            "description_tooltip": null,
            "layout": "IPY_MODEL_1d4f23117b1c4a38b1c3aac95ea713e1",
            "placeholder": "​",
            "style": "IPY_MODEL_a4f8e36a018d4fdfbc3719f976d2f300",
            "value": " 1.92k/1.92k [00:00&lt;00:00, 63.9kB/s]"
          }
        },
        "114dcac87bf7476eb8bc7bc8821026c5": {
          "model_module": "@jupyter-widgets/base",
          "model_name": "LayoutModel",
          "model_module_version": "1.2.0",
          "state": {
            "_model_module": "@jupyter-widgets/base",
            "_model_module_version": "1.2.0",
            "_model_name": "LayoutModel",
            "_view_count": null,
            "_view_module": "@jupyter-widgets/base",
            "_view_module_version": "1.2.0",
            "_view_name": "LayoutView",
            "align_content": null,
            "align_items": null,
            "align_self": null,
            "border": null,
            "bottom": null,
            "display": null,
            "flex": null,
            "flex_flow": null,
            "grid_area": null,
            "grid_auto_columns": null,
            "grid_auto_flow": null,
            "grid_auto_rows": null,
            "grid_column": null,
            "grid_gap": null,
            "grid_row": null,
            "grid_template_areas": null,
            "grid_template_columns": null,
            "grid_template_rows": null,
            "height": null,
            "justify_content": null,
            "justify_items": null,
            "left": null,
            "margin": null,
            "max_height": null,
            "max_width": null,
            "min_height": null,
            "min_width": null,
            "object_fit": null,
            "object_position": null,
            "order": null,
            "overflow": null,
            "overflow_x": null,
            "overflow_y": null,
            "padding": null,
            "right": null,
            "top": null,
            "visibility": null,
            "width": null
          }
        },
        "136b32d36d4747ee8bb60a93012822c0": {
          "model_module": "@jupyter-widgets/base",
          "model_name": "LayoutModel",
          "model_module_version": "1.2.0",
          "state": {
            "_model_module": "@jupyter-widgets/base",
            "_model_module_version": "1.2.0",
            "_model_name": "LayoutModel",
            "_view_count": null,
            "_view_module": "@jupyter-widgets/base",
            "_view_module_version": "1.2.0",
            "_view_name": "LayoutView",
            "align_content": null,
            "align_items": null,
            "align_self": null,
            "border": null,
            "bottom": null,
            "display": null,
            "flex": null,
            "flex_flow": null,
            "grid_area": null,
            "grid_auto_columns": null,
            "grid_auto_flow": null,
            "grid_auto_rows": null,
            "grid_column": null,
            "grid_gap": null,
            "grid_row": null,
            "grid_template_areas": null,
            "grid_template_columns": null,
            "grid_template_rows": null,
            "height": null,
            "justify_content": null,
            "justify_items": null,
            "left": null,
            "margin": null,
            "max_height": null,
            "max_width": null,
            "min_height": null,
            "min_width": null,
            "object_fit": null,
            "object_position": null,
            "order": null,
            "overflow": null,
            "overflow_x": null,
            "overflow_y": null,
            "padding": null,
            "right": null,
            "top": null,
            "visibility": null,
            "width": null
          }
        },
        "4a1127bc9a5c4f53b36c0950072bf77e": {
          "model_module": "@jupyter-widgets/controls",
          "model_name": "DescriptionStyleModel",
          "model_module_version": "1.5.0",
          "state": {
            "_model_module": "@jupyter-widgets/controls",
            "_model_module_version": "1.5.0",
            "_model_name": "DescriptionStyleModel",
            "_view_count": null,
            "_view_module": "@jupyter-widgets/base",
            "_view_module_version": "1.2.0",
            "_view_name": "StyleView",
            "description_width": ""
          }
        },
        "3ac58fe56e8b4daea44c2fd6e60107fa": {
          "model_module": "@jupyter-widgets/base",
          "model_name": "LayoutModel",
          "model_module_version": "1.2.0",
          "state": {
            "_model_module": "@jupyter-widgets/base",
            "_model_module_version": "1.2.0",
            "_model_name": "LayoutModel",
            "_view_count": null,
            "_view_module": "@jupyter-widgets/base",
            "_view_module_version": "1.2.0",
            "_view_name": "LayoutView",
            "align_content": null,
            "align_items": null,
            "align_self": null,
            "border": null,
            "bottom": null,
            "display": null,
            "flex": null,
            "flex_flow": null,
            "grid_area": null,
            "grid_auto_columns": null,
            "grid_auto_flow": null,
            "grid_auto_rows": null,
            "grid_column": null,
            "grid_gap": null,
            "grid_row": null,
            "grid_template_areas": null,
            "grid_template_columns": null,
            "grid_template_rows": null,
            "height": null,
            "justify_content": null,
            "justify_items": null,
            "left": null,
            "margin": null,
            "max_height": null,
            "max_width": null,
            "min_height": null,
            "min_width": null,
            "object_fit": null,
            "object_position": null,
            "order": null,
            "overflow": null,
            "overflow_x": null,
            "overflow_y": null,
            "padding": null,
            "right": null,
            "top": null,
            "visibility": null,
            "width": null
          }
        },
        "c36510bb546c44729eb1088cb22aecf8": {
          "model_module": "@jupyter-widgets/controls",
          "model_name": "ProgressStyleModel",
          "model_module_version": "1.5.0",
          "state": {
            "_model_module": "@jupyter-widgets/controls",
            "_model_module_version": "1.5.0",
            "_model_name": "ProgressStyleModel",
            "_view_count": null,
            "_view_module": "@jupyter-widgets/base",
            "_view_module_version": "1.2.0",
            "_view_name": "StyleView",
            "bar_color": null,
            "description_width": ""
          }
        },
        "1d4f23117b1c4a38b1c3aac95ea713e1": {
          "model_module": "@jupyter-widgets/base",
          "model_name": "LayoutModel",
          "model_module_version": "1.2.0",
          "state": {
            "_model_module": "@jupyter-widgets/base",
            "_model_module_version": "1.2.0",
            "_model_name": "LayoutModel",
            "_view_count": null,
            "_view_module": "@jupyter-widgets/base",
            "_view_module_version": "1.2.0",
            "_view_name": "LayoutView",
            "align_content": null,
            "align_items": null,
            "align_self": null,
            "border": null,
            "bottom": null,
            "display": null,
            "flex": null,
            "flex_flow": null,
            "grid_area": null,
            "grid_auto_columns": null,
            "grid_auto_flow": null,
            "grid_auto_rows": null,
            "grid_column": null,
            "grid_gap": null,
            "grid_row": null,
            "grid_template_areas": null,
            "grid_template_columns": null,
            "grid_template_rows": null,
            "height": null,
            "justify_content": null,
            "justify_items": null,
            "left": null,
            "margin": null,
            "max_height": null,
            "max_width": null,
            "min_height": null,
            "min_width": null,
            "object_fit": null,
            "object_position": null,
            "order": null,
            "overflow": null,
            "overflow_x": null,
            "overflow_y": null,
            "padding": null,
            "right": null,
            "top": null,
            "visibility": null,
            "width": null
          }
        },
        "a4f8e36a018d4fdfbc3719f976d2f300": {
          "model_module": "@jupyter-widgets/controls",
          "model_name": "DescriptionStyleModel",
          "model_module_version": "1.5.0",
          "state": {
            "_model_module": "@jupyter-widgets/controls",
            "_model_module_version": "1.5.0",
            "_model_name": "DescriptionStyleModel",
            "_view_count": null,
            "_view_module": "@jupyter-widgets/base",
            "_view_module_version": "1.2.0",
            "_view_name": "StyleView",
            "description_width": ""
          }
        },
        "cb1bd29b676b4df097aaf1e0a81c0da4": {
          "model_module": "@jupyter-widgets/controls",
          "model_name": "HBoxModel",
          "model_module_version": "1.5.0",
          "state": {
            "_dom_classes": [],
            "_model_module": "@jupyter-widgets/controls",
            "_model_module_version": "1.5.0",
            "_model_name": "HBoxModel",
            "_view_count": null,
            "_view_module": "@jupyter-widgets/controls",
            "_view_module_version": "1.5.0",
            "_view_name": "HBoxView",
            "box_style": "",
            "children": [
              "IPY_MODEL_11ed50e172704c7c9325ece8053622b1",
              "IPY_MODEL_3e79906fdddf4f0ab346b61fc94d250a",
              "IPY_MODEL_a2a5d6a201d846498e9865a3331e7841"
            ],
            "layout": "IPY_MODEL_4fe57068816a4c9dbeeab463ea445b30"
          }
        },
        "11ed50e172704c7c9325ece8053622b1": {
          "model_module": "@jupyter-widgets/controls",
          "model_name": "HTMLModel",
          "model_module_version": "1.5.0",
          "state": {
            "_dom_classes": [],
            "_model_module": "@jupyter-widgets/controls",
            "_model_module_version": "1.5.0",
            "_model_name": "HTMLModel",
            "_view_count": null,
            "_view_module": "@jupyter-widgets/controls",
            "_view_module_version": "1.5.0",
            "_view_name": "HTMLView",
            "description": "",
            "description_tooltip": null,
            "layout": "IPY_MODEL_7df337e64b9e415b84def7bc47670048",
            "placeholder": "​",
            "style": "IPY_MODEL_8e3f7359629d46d7ad2b6e354eb1a8cc",
            "value": "Downloading data: 100%"
          }
        },
        "3e79906fdddf4f0ab346b61fc94d250a": {
          "model_module": "@jupyter-widgets/controls",
          "model_name": "FloatProgressModel",
          "model_module_version": "1.5.0",
          "state": {
            "_dom_classes": [],
            "_model_module": "@jupyter-widgets/controls",
            "_model_module_version": "1.5.0",
            "_model_name": "FloatProgressModel",
            "_view_count": null,
            "_view_module": "@jupyter-widgets/controls",
            "_view_module_version": "1.5.0",
            "_view_name": "ProgressView",
            "bar_style": "success",
            "description": "",
            "description_tooltip": null,
            "layout": "IPY_MODEL_c7ffdddd6ca146f4a5cb058a61cffb89",
            "max": 400759198,
            "min": 0,
            "orientation": "horizontal",
            "style": "IPY_MODEL_98f17bf3ccc74685acfd817833ef49b5",
            "value": 400759198
          }
        },
        "a2a5d6a201d846498e9865a3331e7841": {
          "model_module": "@jupyter-widgets/controls",
          "model_name": "HTMLModel",
          "model_module_version": "1.5.0",
          "state": {
            "_dom_classes": [],
            "_model_module": "@jupyter-widgets/controls",
            "_model_module_version": "1.5.0",
            "_model_name": "HTMLModel",
            "_view_count": null,
            "_view_module": "@jupyter-widgets/controls",
            "_view_module_version": "1.5.0",
            "_view_name": "HTMLView",
            "description": "",
            "description_tooltip": null,
            "layout": "IPY_MODEL_087c48ba7f2b4479afbab88c789ae6e8",
            "placeholder": "​",
            "style": "IPY_MODEL_efcdb78dfb0b4655b2f7e522d717f1eb",
            "value": " 401M/401M [00:58&lt;00:00, 7.90MB/s]"
          }
        },
        "4fe57068816a4c9dbeeab463ea445b30": {
          "model_module": "@jupyter-widgets/base",
          "model_name": "LayoutModel",
          "model_module_version": "1.2.0",
          "state": {
            "_model_module": "@jupyter-widgets/base",
            "_model_module_version": "1.2.0",
            "_model_name": "LayoutModel",
            "_view_count": null,
            "_view_module": "@jupyter-widgets/base",
            "_view_module_version": "1.2.0",
            "_view_name": "LayoutView",
            "align_content": null,
            "align_items": null,
            "align_self": null,
            "border": null,
            "bottom": null,
            "display": null,
            "flex": null,
            "flex_flow": null,
            "grid_area": null,
            "grid_auto_columns": null,
            "grid_auto_flow": null,
            "grid_auto_rows": null,
            "grid_column": null,
            "grid_gap": null,
            "grid_row": null,
            "grid_template_areas": null,
            "grid_template_columns": null,
            "grid_template_rows": null,
            "height": null,
            "justify_content": null,
            "justify_items": null,
            "left": null,
            "margin": null,
            "max_height": null,
            "max_width": null,
            "min_height": null,
            "min_width": null,
            "object_fit": null,
            "object_position": null,
            "order": null,
            "overflow": null,
            "overflow_x": null,
            "overflow_y": null,
            "padding": null,
            "right": null,
            "top": null,
            "visibility": null,
            "width": null
          }
        },
        "7df337e64b9e415b84def7bc47670048": {
          "model_module": "@jupyter-widgets/base",
          "model_name": "LayoutModel",
          "model_module_version": "1.2.0",
          "state": {
            "_model_module": "@jupyter-widgets/base",
            "_model_module_version": "1.2.0",
            "_model_name": "LayoutModel",
            "_view_count": null,
            "_view_module": "@jupyter-widgets/base",
            "_view_module_version": "1.2.0",
            "_view_name": "LayoutView",
            "align_content": null,
            "align_items": null,
            "align_self": null,
            "border": null,
            "bottom": null,
            "display": null,
            "flex": null,
            "flex_flow": null,
            "grid_area": null,
            "grid_auto_columns": null,
            "grid_auto_flow": null,
            "grid_auto_rows": null,
            "grid_column": null,
            "grid_gap": null,
            "grid_row": null,
            "grid_template_areas": null,
            "grid_template_columns": null,
            "grid_template_rows": null,
            "height": null,
            "justify_content": null,
            "justify_items": null,
            "left": null,
            "margin": null,
            "max_height": null,
            "max_width": null,
            "min_height": null,
            "min_width": null,
            "object_fit": null,
            "object_position": null,
            "order": null,
            "overflow": null,
            "overflow_x": null,
            "overflow_y": null,
            "padding": null,
            "right": null,
            "top": null,
            "visibility": null,
            "width": null
          }
        },
        "8e3f7359629d46d7ad2b6e354eb1a8cc": {
          "model_module": "@jupyter-widgets/controls",
          "model_name": "DescriptionStyleModel",
          "model_module_version": "1.5.0",
          "state": {
            "_model_module": "@jupyter-widgets/controls",
            "_model_module_version": "1.5.0",
            "_model_name": "DescriptionStyleModel",
            "_view_count": null,
            "_view_module": "@jupyter-widgets/base",
            "_view_module_version": "1.2.0",
            "_view_name": "StyleView",
            "description_width": ""
          }
        },
        "c7ffdddd6ca146f4a5cb058a61cffb89": {
          "model_module": "@jupyter-widgets/base",
          "model_name": "LayoutModel",
          "model_module_version": "1.2.0",
          "state": {
            "_model_module": "@jupyter-widgets/base",
            "_model_module_version": "1.2.0",
            "_model_name": "LayoutModel",
            "_view_count": null,
            "_view_module": "@jupyter-widgets/base",
            "_view_module_version": "1.2.0",
            "_view_name": "LayoutView",
            "align_content": null,
            "align_items": null,
            "align_self": null,
            "border": null,
            "bottom": null,
            "display": null,
            "flex": null,
            "flex_flow": null,
            "grid_area": null,
            "grid_auto_columns": null,
            "grid_auto_flow": null,
            "grid_auto_rows": null,
            "grid_column": null,
            "grid_gap": null,
            "grid_row": null,
            "grid_template_areas": null,
            "grid_template_columns": null,
            "grid_template_rows": null,
            "height": null,
            "justify_content": null,
            "justify_items": null,
            "left": null,
            "margin": null,
            "max_height": null,
            "max_width": null,
            "min_height": null,
            "min_width": null,
            "object_fit": null,
            "object_position": null,
            "order": null,
            "overflow": null,
            "overflow_x": null,
            "overflow_y": null,
            "padding": null,
            "right": null,
            "top": null,
            "visibility": null,
            "width": null
          }
        },
        "98f17bf3ccc74685acfd817833ef49b5": {
          "model_module": "@jupyter-widgets/controls",
          "model_name": "ProgressStyleModel",
          "model_module_version": "1.5.0",
          "state": {
            "_model_module": "@jupyter-widgets/controls",
            "_model_module_version": "1.5.0",
            "_model_name": "ProgressStyleModel",
            "_view_count": null,
            "_view_module": "@jupyter-widgets/base",
            "_view_module_version": "1.2.0",
            "_view_name": "StyleView",
            "bar_color": null,
            "description_width": ""
          }
        },
        "087c48ba7f2b4479afbab88c789ae6e8": {
          "model_module": "@jupyter-widgets/base",
          "model_name": "LayoutModel",
          "model_module_version": "1.2.0",
          "state": {
            "_model_module": "@jupyter-widgets/base",
            "_model_module_version": "1.2.0",
            "_model_name": "LayoutModel",
            "_view_count": null,
            "_view_module": "@jupyter-widgets/base",
            "_view_module_version": "1.2.0",
            "_view_name": "LayoutView",
            "align_content": null,
            "align_items": null,
            "align_self": null,
            "border": null,
            "bottom": null,
            "display": null,
            "flex": null,
            "flex_flow": null,
            "grid_area": null,
            "grid_auto_columns": null,
            "grid_auto_flow": null,
            "grid_auto_rows": null,
            "grid_column": null,
            "grid_gap": null,
            "grid_row": null,
            "grid_template_areas": null,
            "grid_template_columns": null,
            "grid_template_rows": null,
            "height": null,
            "justify_content": null,
            "justify_items": null,
            "left": null,
            "margin": null,
            "max_height": null,
            "max_width": null,
            "min_height": null,
            "min_width": null,
            "object_fit": null,
            "object_position": null,
            "order": null,
            "overflow": null,
            "overflow_x": null,
            "overflow_y": null,
            "padding": null,
            "right": null,
            "top": null,
            "visibility": null,
            "width": null
          }
        },
        "efcdb78dfb0b4655b2f7e522d717f1eb": {
          "model_module": "@jupyter-widgets/controls",
          "model_name": "DescriptionStyleModel",
          "model_module_version": "1.5.0",
          "state": {
            "_model_module": "@jupyter-widgets/controls",
            "_model_module_version": "1.5.0",
            "_model_name": "DescriptionStyleModel",
            "_view_count": null,
            "_view_module": "@jupyter-widgets/base",
            "_view_module_version": "1.2.0",
            "_view_name": "StyleView",
            "description_width": ""
          }
        },
        "fd981bdf81c74304ba53442b9795c2d1": {
          "model_module": "@jupyter-widgets/controls",
          "model_name": "HBoxModel",
          "model_module_version": "1.5.0",
          "state": {
            "_dom_classes": [],
            "_model_module": "@jupyter-widgets/controls",
            "_model_module_version": "1.5.0",
            "_model_name": "HBoxModel",
            "_view_count": null,
            "_view_module": "@jupyter-widgets/controls",
            "_view_module_version": "1.5.0",
            "_view_name": "HBoxView",
            "box_style": "",
            "children": [
              "IPY_MODEL_915c655bd46f4a26a00260dae5d086f7",
              "IPY_MODEL_532d33ed357b4cc9b4bb65074bf14d8a",
              "IPY_MODEL_73094db0ff49444da53cfbfa8a22bc4d"
            ],
            "layout": "IPY_MODEL_575c2fb818a34b438bd439a5f7cdf86b"
          }
        },
        "915c655bd46f4a26a00260dae5d086f7": {
          "model_module": "@jupyter-widgets/controls",
          "model_name": "HTMLModel",
          "model_module_version": "1.5.0",
          "state": {
            "_dom_classes": [],
            "_model_module": "@jupyter-widgets/controls",
            "_model_module_version": "1.5.0",
            "_model_name": "HTMLModel",
            "_view_count": null,
            "_view_module": "@jupyter-widgets/controls",
            "_view_module_version": "1.5.0",
            "_view_name": "HTMLView",
            "description": "",
            "description_tooltip": null,
            "layout": "IPY_MODEL_16be77eed35f4a468cc193fab05a1b8c",
            "placeholder": "​",
            "style": "IPY_MODEL_063c80ade4b4453cb9628ce1911dbbf0",
            "value": "Downloading data: 100%"
          }
        },
        "532d33ed357b4cc9b4bb65074bf14d8a": {
          "model_module": "@jupyter-widgets/controls",
          "model_name": "FloatProgressModel",
          "model_module_version": "1.5.0",
          "state": {
            "_dom_classes": [],
            "_model_module": "@jupyter-widgets/controls",
            "_model_module_version": "1.5.0",
            "_model_name": "FloatProgressModel",
            "_view_count": null,
            "_view_module": "@jupyter-widgets/controls",
            "_view_module_version": "1.5.0",
            "_view_name": "ProgressView",
            "bar_style": "success",
            "description": "",
            "description_tooltip": null,
            "layout": "IPY_MODEL_82aa3c6e351646fe81b4512d6f2ccf2d",
            "max": 459968278,
            "min": 0,
            "orientation": "horizontal",
            "style": "IPY_MODEL_d1829c384cd1475e95fa6adb3ffc25ed",
            "value": 459968278
          }
        },
        "73094db0ff49444da53cfbfa8a22bc4d": {
          "model_module": "@jupyter-widgets/controls",
          "model_name": "HTMLModel",
          "model_module_version": "1.5.0",
          "state": {
            "_dom_classes": [],
            "_model_module": "@jupyter-widgets/controls",
            "_model_module_version": "1.5.0",
            "_model_name": "HTMLModel",
            "_view_count": null,
            "_view_module": "@jupyter-widgets/controls",
            "_view_module_version": "1.5.0",
            "_view_name": "HTMLView",
            "description": "",
            "description_tooltip": null,
            "layout": "IPY_MODEL_fff6f42a93da4e4b956c1e695f589ef8",
            "placeholder": "​",
            "style": "IPY_MODEL_f55cc2cdeea34344ae175dc1f9576ea1",
            "value": " 460M/460M [00:59&lt;00:00, 8.39MB/s]"
          }
        },
        "575c2fb818a34b438bd439a5f7cdf86b": {
          "model_module": "@jupyter-widgets/base",
          "model_name": "LayoutModel",
          "model_module_version": "1.2.0",
          "state": {
            "_model_module": "@jupyter-widgets/base",
            "_model_module_version": "1.2.0",
            "_model_name": "LayoutModel",
            "_view_count": null,
            "_view_module": "@jupyter-widgets/base",
            "_view_module_version": "1.2.0",
            "_view_name": "LayoutView",
            "align_content": null,
            "align_items": null,
            "align_self": null,
            "border": null,
            "bottom": null,
            "display": null,
            "flex": null,
            "flex_flow": null,
            "grid_area": null,
            "grid_auto_columns": null,
            "grid_auto_flow": null,
            "grid_auto_rows": null,
            "grid_column": null,
            "grid_gap": null,
            "grid_row": null,
            "grid_template_areas": null,
            "grid_template_columns": null,
            "grid_template_rows": null,
            "height": null,
            "justify_content": null,
            "justify_items": null,
            "left": null,
            "margin": null,
            "max_height": null,
            "max_width": null,
            "min_height": null,
            "min_width": null,
            "object_fit": null,
            "object_position": null,
            "order": null,
            "overflow": null,
            "overflow_x": null,
            "overflow_y": null,
            "padding": null,
            "right": null,
            "top": null,
            "visibility": null,
            "width": null
          }
        },
        "16be77eed35f4a468cc193fab05a1b8c": {
          "model_module": "@jupyter-widgets/base",
          "model_name": "LayoutModel",
          "model_module_version": "1.2.0",
          "state": {
            "_model_module": "@jupyter-widgets/base",
            "_model_module_version": "1.2.0",
            "_model_name": "LayoutModel",
            "_view_count": null,
            "_view_module": "@jupyter-widgets/base",
            "_view_module_version": "1.2.0",
            "_view_name": "LayoutView",
            "align_content": null,
            "align_items": null,
            "align_self": null,
            "border": null,
            "bottom": null,
            "display": null,
            "flex": null,
            "flex_flow": null,
            "grid_area": null,
            "grid_auto_columns": null,
            "grid_auto_flow": null,
            "grid_auto_rows": null,
            "grid_column": null,
            "grid_gap": null,
            "grid_row": null,
            "grid_template_areas": null,
            "grid_template_columns": null,
            "grid_template_rows": null,
            "height": null,
            "justify_content": null,
            "justify_items": null,
            "left": null,
            "margin": null,
            "max_height": null,
            "max_width": null,
            "min_height": null,
            "min_width": null,
            "object_fit": null,
            "object_position": null,
            "order": null,
            "overflow": null,
            "overflow_x": null,
            "overflow_y": null,
            "padding": null,
            "right": null,
            "top": null,
            "visibility": null,
            "width": null
          }
        },
        "063c80ade4b4453cb9628ce1911dbbf0": {
          "model_module": "@jupyter-widgets/controls",
          "model_name": "DescriptionStyleModel",
          "model_module_version": "1.5.0",
          "state": {
            "_model_module": "@jupyter-widgets/controls",
            "_model_module_version": "1.5.0",
            "_model_name": "DescriptionStyleModel",
            "_view_count": null,
            "_view_module": "@jupyter-widgets/base",
            "_view_module_version": "1.2.0",
            "_view_name": "StyleView",
            "description_width": ""
          }
        },
        "82aa3c6e351646fe81b4512d6f2ccf2d": {
          "model_module": "@jupyter-widgets/base",
          "model_name": "LayoutModel",
          "model_module_version": "1.2.0",
          "state": {
            "_model_module": "@jupyter-widgets/base",
            "_model_module_version": "1.2.0",
            "_model_name": "LayoutModel",
            "_view_count": null,
            "_view_module": "@jupyter-widgets/base",
            "_view_module_version": "1.2.0",
            "_view_name": "LayoutView",
            "align_content": null,
            "align_items": null,
            "align_self": null,
            "border": null,
            "bottom": null,
            "display": null,
            "flex": null,
            "flex_flow": null,
            "grid_area": null,
            "grid_auto_columns": null,
            "grid_auto_flow": null,
            "grid_auto_rows": null,
            "grid_column": null,
            "grid_gap": null,
            "grid_row": null,
            "grid_template_areas": null,
            "grid_template_columns": null,
            "grid_template_rows": null,
            "height": null,
            "justify_content": null,
            "justify_items": null,
            "left": null,
            "margin": null,
            "max_height": null,
            "max_width": null,
            "min_height": null,
            "min_width": null,
            "object_fit": null,
            "object_position": null,
            "order": null,
            "overflow": null,
            "overflow_x": null,
            "overflow_y": null,
            "padding": null,
            "right": null,
            "top": null,
            "visibility": null,
            "width": null
          }
        },
        "d1829c384cd1475e95fa6adb3ffc25ed": {
          "model_module": "@jupyter-widgets/controls",
          "model_name": "ProgressStyleModel",
          "model_module_version": "1.5.0",
          "state": {
            "_model_module": "@jupyter-widgets/controls",
            "_model_module_version": "1.5.0",
            "_model_name": "ProgressStyleModel",
            "_view_count": null,
            "_view_module": "@jupyter-widgets/base",
            "_view_module_version": "1.2.0",
            "_view_name": "StyleView",
            "bar_color": null,
            "description_width": ""
          }
        },
        "fff6f42a93da4e4b956c1e695f589ef8": {
          "model_module": "@jupyter-widgets/base",
          "model_name": "LayoutModel",
          "model_module_version": "1.2.0",
          "state": {
            "_model_module": "@jupyter-widgets/base",
            "_model_module_version": "1.2.0",
            "_model_name": "LayoutModel",
            "_view_count": null,
            "_view_module": "@jupyter-widgets/base",
            "_view_module_version": "1.2.0",
            "_view_name": "LayoutView",
            "align_content": null,
            "align_items": null,
            "align_self": null,
            "border": null,
            "bottom": null,
            "display": null,
            "flex": null,
            "flex_flow": null,
            "grid_area": null,
            "grid_auto_columns": null,
            "grid_auto_flow": null,
            "grid_auto_rows": null,
            "grid_column": null,
            "grid_gap": null,
            "grid_row": null,
            "grid_template_areas": null,
            "grid_template_columns": null,
            "grid_template_rows": null,
            "height": null,
            "justify_content": null,
            "justify_items": null,
            "left": null,
            "margin": null,
            "max_height": null,
            "max_width": null,
            "min_height": null,
            "min_width": null,
            "object_fit": null,
            "object_position": null,
            "order": null,
            "overflow": null,
            "overflow_x": null,
            "overflow_y": null,
            "padding": null,
            "right": null,
            "top": null,
            "visibility": null,
            "width": null
          }
        },
        "f55cc2cdeea34344ae175dc1f9576ea1": {
          "model_module": "@jupyter-widgets/controls",
          "model_name": "DescriptionStyleModel",
          "model_module_version": "1.5.0",
          "state": {
            "_model_module": "@jupyter-widgets/controls",
            "_model_module_version": "1.5.0",
            "_model_name": "DescriptionStyleModel",
            "_view_count": null,
            "_view_module": "@jupyter-widgets/base",
            "_view_module_version": "1.2.0",
            "_view_name": "StyleView",
            "description_width": ""
          }
        },
        "9906d245c3f3451a8dae2aa804bb4161": {
          "model_module": "@jupyter-widgets/controls",
          "model_name": "HBoxModel",
          "model_module_version": "1.5.0",
          "state": {
            "_dom_classes": [],
            "_model_module": "@jupyter-widgets/controls",
            "_model_module_version": "1.5.0",
            "_model_name": "HBoxModel",
            "_view_count": null,
            "_view_module": "@jupyter-widgets/controls",
            "_view_module_version": "1.5.0",
            "_view_name": "HBoxView",
            "box_style": "",
            "children": [
              "IPY_MODEL_3cabfec4a1d149509880d891ed999a22",
              "IPY_MODEL_39a33622b3a94c89b959339f43f0cec7",
              "IPY_MODEL_f3f43c97b6e84e81a74a649f424e4aee"
            ],
            "layout": "IPY_MODEL_94de3250f26649c2a805acf93687cf03"
          }
        },
        "3cabfec4a1d149509880d891ed999a22": {
          "model_module": "@jupyter-widgets/controls",
          "model_name": "HTMLModel",
          "model_module_version": "1.5.0",
          "state": {
            "_dom_classes": [],
            "_model_module": "@jupyter-widgets/controls",
            "_model_module_version": "1.5.0",
            "_model_name": "HTMLModel",
            "_view_count": null,
            "_view_module": "@jupyter-widgets/controls",
            "_view_module_version": "1.5.0",
            "_view_name": "HTMLView",
            "description": "",
            "description_tooltip": null,
            "layout": "IPY_MODEL_67f0f78e48ff499daacea51aff502ac3",
            "placeholder": "​",
            "style": "IPY_MODEL_9393d082fc63435d8688ded394c6a5c9",
            "value": "Generating train split: 100%"
          }
        },
        "39a33622b3a94c89b959339f43f0cec7": {
          "model_module": "@jupyter-widgets/controls",
          "model_name": "FloatProgressModel",
          "model_module_version": "1.5.0",
          "state": {
            "_dom_classes": [],
            "_model_module": "@jupyter-widgets/controls",
            "_model_module_version": "1.5.0",
            "_model_name": "FloatProgressModel",
            "_view_count": null,
            "_view_module": "@jupyter-widgets/controls",
            "_view_module_version": "1.5.0",
            "_view_name": "ProgressView",
            "bar_style": "success",
            "description": "",
            "description_tooltip": null,
            "layout": "IPY_MODEL_387c897f56c74a78a1263217e36ef407",
            "max": 55447,
            "min": 0,
            "orientation": "horizontal",
            "style": "IPY_MODEL_367cd0c0501f4f2ebde199115316ac78",
            "value": 55447
          }
        },
        "f3f43c97b6e84e81a74a649f424e4aee": {
          "model_module": "@jupyter-widgets/controls",
          "model_name": "HTMLModel",
          "model_module_version": "1.5.0",
          "state": {
            "_dom_classes": [],
            "_model_module": "@jupyter-widgets/controls",
            "_model_module_version": "1.5.0",
            "_model_name": "HTMLModel",
            "_view_count": null,
            "_view_module": "@jupyter-widgets/controls",
            "_view_module_version": "1.5.0",
            "_view_name": "HTMLView",
            "description": "",
            "description_tooltip": null,
            "layout": "IPY_MODEL_b71c4905aa3c4843b638ed67bc14629c",
            "placeholder": "​",
            "style": "IPY_MODEL_985491aad2da4f83adf05bc4924a5eee",
            "value": " 55447/55447 [00:02&lt;00:00, 17116.06 examples/s]"
          }
        },
        "94de3250f26649c2a805acf93687cf03": {
          "model_module": "@jupyter-widgets/base",
          "model_name": "LayoutModel",
          "model_module_version": "1.2.0",
          "state": {
            "_model_module": "@jupyter-widgets/base",
            "_model_module_version": "1.2.0",
            "_model_name": "LayoutModel",
            "_view_count": null,
            "_view_module": "@jupyter-widgets/base",
            "_view_module_version": "1.2.0",
            "_view_name": "LayoutView",
            "align_content": null,
            "align_items": null,
            "align_self": null,
            "border": null,
            "bottom": null,
            "display": null,
            "flex": null,
            "flex_flow": null,
            "grid_area": null,
            "grid_auto_columns": null,
            "grid_auto_flow": null,
            "grid_auto_rows": null,
            "grid_column": null,
            "grid_gap": null,
            "grid_row": null,
            "grid_template_areas": null,
            "grid_template_columns": null,
            "grid_template_rows": null,
            "height": null,
            "justify_content": null,
            "justify_items": null,
            "left": null,
            "margin": null,
            "max_height": null,
            "max_width": null,
            "min_height": null,
            "min_width": null,
            "object_fit": null,
            "object_position": null,
            "order": null,
            "overflow": null,
            "overflow_x": null,
            "overflow_y": null,
            "padding": null,
            "right": null,
            "top": null,
            "visibility": null,
            "width": null
          }
        },
        "67f0f78e48ff499daacea51aff502ac3": {
          "model_module": "@jupyter-widgets/base",
          "model_name": "LayoutModel",
          "model_module_version": "1.2.0",
          "state": {
            "_model_module": "@jupyter-widgets/base",
            "_model_module_version": "1.2.0",
            "_model_name": "LayoutModel",
            "_view_count": null,
            "_view_module": "@jupyter-widgets/base",
            "_view_module_version": "1.2.0",
            "_view_name": "LayoutView",
            "align_content": null,
            "align_items": null,
            "align_self": null,
            "border": null,
            "bottom": null,
            "display": null,
            "flex": null,
            "flex_flow": null,
            "grid_area": null,
            "grid_auto_columns": null,
            "grid_auto_flow": null,
            "grid_auto_rows": null,
            "grid_column": null,
            "grid_gap": null,
            "grid_row": null,
            "grid_template_areas": null,
            "grid_template_columns": null,
            "grid_template_rows": null,
            "height": null,
            "justify_content": null,
            "justify_items": null,
            "left": null,
            "margin": null,
            "max_height": null,
            "max_width": null,
            "min_height": null,
            "min_width": null,
            "object_fit": null,
            "object_position": null,
            "order": null,
            "overflow": null,
            "overflow_x": null,
            "overflow_y": null,
            "padding": null,
            "right": null,
            "top": null,
            "visibility": null,
            "width": null
          }
        },
        "9393d082fc63435d8688ded394c6a5c9": {
          "model_module": "@jupyter-widgets/controls",
          "model_name": "DescriptionStyleModel",
          "model_module_version": "1.5.0",
          "state": {
            "_model_module": "@jupyter-widgets/controls",
            "_model_module_version": "1.5.0",
            "_model_name": "DescriptionStyleModel",
            "_view_count": null,
            "_view_module": "@jupyter-widgets/base",
            "_view_module_version": "1.2.0",
            "_view_name": "StyleView",
            "description_width": ""
          }
        },
        "387c897f56c74a78a1263217e36ef407": {
          "model_module": "@jupyter-widgets/base",
          "model_name": "LayoutModel",
          "model_module_version": "1.2.0",
          "state": {
            "_model_module": "@jupyter-widgets/base",
            "_model_module_version": "1.2.0",
            "_model_name": "LayoutModel",
            "_view_count": null,
            "_view_module": "@jupyter-widgets/base",
            "_view_module_version": "1.2.0",
            "_view_name": "LayoutView",
            "align_content": null,
            "align_items": null,
            "align_self": null,
            "border": null,
            "bottom": null,
            "display": null,
            "flex": null,
            "flex_flow": null,
            "grid_area": null,
            "grid_auto_columns": null,
            "grid_auto_flow": null,
            "grid_auto_rows": null,
            "grid_column": null,
            "grid_gap": null,
            "grid_row": null,
            "grid_template_areas": null,
            "grid_template_columns": null,
            "grid_template_rows": null,
            "height": null,
            "justify_content": null,
            "justify_items": null,
            "left": null,
            "margin": null,
            "max_height": null,
            "max_width": null,
            "min_height": null,
            "min_width": null,
            "object_fit": null,
            "object_position": null,
            "order": null,
            "overflow": null,
            "overflow_x": null,
            "overflow_y": null,
            "padding": null,
            "right": null,
            "top": null,
            "visibility": null,
            "width": null
          }
        },
        "367cd0c0501f4f2ebde199115316ac78": {
          "model_module": "@jupyter-widgets/controls",
          "model_name": "ProgressStyleModel",
          "model_module_version": "1.5.0",
          "state": {
            "_model_module": "@jupyter-widgets/controls",
            "_model_module_version": "1.5.0",
            "_model_name": "ProgressStyleModel",
            "_view_count": null,
            "_view_module": "@jupyter-widgets/base",
            "_view_module_version": "1.2.0",
            "_view_name": "StyleView",
            "bar_color": null,
            "description_width": ""
          }
        },
        "b71c4905aa3c4843b638ed67bc14629c": {
          "model_module": "@jupyter-widgets/base",
          "model_name": "LayoutModel",
          "model_module_version": "1.2.0",
          "state": {
            "_model_module": "@jupyter-widgets/base",
            "_model_module_version": "1.2.0",
            "_model_name": "LayoutModel",
            "_view_count": null,
            "_view_module": "@jupyter-widgets/base",
            "_view_module_version": "1.2.0",
            "_view_name": "LayoutView",
            "align_content": null,
            "align_items": null,
            "align_self": null,
            "border": null,
            "bottom": null,
            "display": null,
            "flex": null,
            "flex_flow": null,
            "grid_area": null,
            "grid_auto_columns": null,
            "grid_auto_flow": null,
            "grid_auto_rows": null,
            "grid_column": null,
            "grid_gap": null,
            "grid_row": null,
            "grid_template_areas": null,
            "grid_template_columns": null,
            "grid_template_rows": null,
            "height": null,
            "justify_content": null,
            "justify_items": null,
            "left": null,
            "margin": null,
            "max_height": null,
            "max_width": null,
            "min_height": null,
            "min_width": null,
            "object_fit": null,
            "object_position": null,
            "order": null,
            "overflow": null,
            "overflow_x": null,
            "overflow_y": null,
            "padding": null,
            "right": null,
            "top": null,
            "visibility": null,
            "width": null
          }
        },
        "985491aad2da4f83adf05bc4924a5eee": {
          "model_module": "@jupyter-widgets/controls",
          "model_name": "DescriptionStyleModel",
          "model_module_version": "1.5.0",
          "state": {
            "_model_module": "@jupyter-widgets/controls",
            "_model_module_version": "1.5.0",
            "_model_name": "DescriptionStyleModel",
            "_view_count": null,
            "_view_module": "@jupyter-widgets/base",
            "_view_module_version": "1.2.0",
            "_view_name": "StyleView",
            "description_width": ""
          }
        }
      }
    },
    "accelerator": "GPU"
  },
  "nbformat": 4,
  "nbformat_minor": 0
}