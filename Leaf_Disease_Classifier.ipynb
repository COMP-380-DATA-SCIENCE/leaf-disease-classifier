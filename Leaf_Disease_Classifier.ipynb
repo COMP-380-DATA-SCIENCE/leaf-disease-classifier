{
  "cells": [
    {
      "cell_type": "markdown",
      "metadata": {
        "id": "view-in-github",
        "colab_type": "text"
      },
      "source": [
        "<a href=\"https://colab.research.google.com/github/COMP-380-DATA-SCIENCE/leaf-disease-classifier/blob/main/Leaf_Disease_Classifier.ipynb\" target=\"_parent\"><img src=\"https://colab.research.google.com/assets/colab-badge.svg\" alt=\"Open In Colab\"/></a>"
      ]
    },
    {
      "cell_type": "code",
      "execution_count": null,
      "metadata": {
        "colab": {
          "base_uri": "https://localhost:8080/"
        },
        "id": "CuMWVxEQQQub",
        "outputId": "b1672615-ffec-402a-83ae-3449ff601f3b"
      },
      "outputs": [
        {
          "output_type": "stream",
          "name": "stdout",
          "text": [
            "Collecting datasets\n",
            "  Downloading datasets-2.17.1-py3-none-any.whl (536 kB)\n",
            "\u001b[2K     \u001b[90m━━━━━━━━━━━━━━━━━━━━━━━━━━━━━━━━━━━━━━━━\u001b[0m \u001b[32m536.7/536.7 kB\u001b[0m \u001b[31m7.7 MB/s\u001b[0m eta \u001b[36m0:00:00\u001b[0m\n",
            "\u001b[?25hRequirement already satisfied: filelock in /usr/local/lib/python3.10/dist-packages (from datasets) (3.13.1)\n",
            "Requirement already satisfied: numpy>=1.17 in /usr/local/lib/python3.10/dist-packages (from datasets) (1.25.2)\n",
            "Requirement already satisfied: pyarrow>=12.0.0 in /usr/local/lib/python3.10/dist-packages (from datasets) (14.0.2)\n",
            "Requirement already satisfied: pyarrow-hotfix in /usr/local/lib/python3.10/dist-packages (from datasets) (0.6)\n",
            "Collecting dill<0.3.9,>=0.3.0 (from datasets)\n",
            "  Downloading dill-0.3.8-py3-none-any.whl (116 kB)\n",
            "\u001b[2K     \u001b[90m━━━━━━━━━━━━━━━━━━━━━━━━━━━━━━━━━━━━━━━━\u001b[0m \u001b[32m116.3/116.3 kB\u001b[0m \u001b[31m8.1 MB/s\u001b[0m eta \u001b[36m0:00:00\u001b[0m\n",
            "\u001b[?25hRequirement already satisfied: pandas in /usr/local/lib/python3.10/dist-packages (from datasets) (1.5.3)\n",
            "Requirement already satisfied: requests>=2.19.0 in /usr/local/lib/python3.10/dist-packages (from datasets) (2.31.0)\n",
            "Requirement already satisfied: tqdm>=4.62.1 in /usr/local/lib/python3.10/dist-packages (from datasets) (4.66.2)\n",
            "Requirement already satisfied: xxhash in /usr/local/lib/python3.10/dist-packages (from datasets) (3.4.1)\n",
            "Collecting multiprocess (from datasets)\n",
            "  Downloading multiprocess-0.70.16-py310-none-any.whl (134 kB)\n",
            "\u001b[2K     \u001b[90m━━━━━━━━━━━━━━━━━━━━━━━━━━━━━━━━━━━━━━━━\u001b[0m \u001b[32m134.8/134.8 kB\u001b[0m \u001b[31m10.1 MB/s\u001b[0m eta \u001b[36m0:00:00\u001b[0m\n",
            "\u001b[?25hRequirement already satisfied: fsspec[http]<=2023.10.0,>=2023.1.0 in /usr/local/lib/python3.10/dist-packages (from datasets) (2023.6.0)\n",
            "Requirement already satisfied: aiohttp in /usr/local/lib/python3.10/dist-packages (from datasets) (3.9.3)\n",
            "Requirement already satisfied: huggingface-hub>=0.19.4 in /usr/local/lib/python3.10/dist-packages (from datasets) (0.20.3)\n",
            "Requirement already satisfied: packaging in /usr/local/lib/python3.10/dist-packages (from datasets) (23.2)\n",
            "Requirement already satisfied: pyyaml>=5.1 in /usr/local/lib/python3.10/dist-packages (from datasets) (6.0.1)\n",
            "Requirement already satisfied: aiosignal>=1.1.2 in /usr/local/lib/python3.10/dist-packages (from aiohttp->datasets) (1.3.1)\n",
            "Requirement already satisfied: attrs>=17.3.0 in /usr/local/lib/python3.10/dist-packages (from aiohttp->datasets) (23.2.0)\n",
            "Requirement already satisfied: frozenlist>=1.1.1 in /usr/local/lib/python3.10/dist-packages (from aiohttp->datasets) (1.4.1)\n",
            "Requirement already satisfied: multidict<7.0,>=4.5 in /usr/local/lib/python3.10/dist-packages (from aiohttp->datasets) (6.0.5)\n",
            "Requirement already satisfied: yarl<2.0,>=1.0 in /usr/local/lib/python3.10/dist-packages (from aiohttp->datasets) (1.9.4)\n",
            "Requirement already satisfied: async-timeout<5.0,>=4.0 in /usr/local/lib/python3.10/dist-packages (from aiohttp->datasets) (4.0.3)\n",
            "Requirement already satisfied: typing-extensions>=3.7.4.3 in /usr/local/lib/python3.10/dist-packages (from huggingface-hub>=0.19.4->datasets) (4.9.0)\n",
            "Requirement already satisfied: charset-normalizer<4,>=2 in /usr/local/lib/python3.10/dist-packages (from requests>=2.19.0->datasets) (3.3.2)\n",
            "Requirement already satisfied: idna<4,>=2.5 in /usr/local/lib/python3.10/dist-packages (from requests>=2.19.0->datasets) (3.6)\n",
            "Requirement already satisfied: urllib3<3,>=1.21.1 in /usr/local/lib/python3.10/dist-packages (from requests>=2.19.0->datasets) (2.0.7)\n",
            "Requirement already satisfied: certifi>=2017.4.17 in /usr/local/lib/python3.10/dist-packages (from requests>=2.19.0->datasets) (2024.2.2)\n",
            "Requirement already satisfied: python-dateutil>=2.8.1 in /usr/local/lib/python3.10/dist-packages (from pandas->datasets) (2.8.2)\n",
            "Requirement already satisfied: pytz>=2020.1 in /usr/local/lib/python3.10/dist-packages (from pandas->datasets) (2023.4)\n",
            "Requirement already satisfied: six>=1.5 in /usr/local/lib/python3.10/dist-packages (from python-dateutil>=2.8.1->pandas->datasets) (1.16.0)\n",
            "Installing collected packages: dill, multiprocess, datasets\n",
            "Successfully installed datasets-2.17.1 dill-0.3.8 multiprocess-0.70.16\n"
          ]
        }
      ],
      "source": [
        "!pip install dataset"
      ]
    },
    {
      "cell_type": "code",
      "source": [
        "!pip install datasets[vision]"
      ],
      "metadata": {
        "colab": {
          "base_uri": "https://localhost:8080/"
        },
        "id": "xwmcf03tPcWb",
        "outputId": "27ceb386-c1ad-43e7-82b1-936842242406"
      },
      "execution_count": null,
      "outputs": [
        {
          "output_type": "stream",
          "name": "stdout",
          "text": [
            "Requirement already satisfied: datasets[vision] in /usr/local/lib/python3.10/dist-packages (2.17.1)\n",
            "Requirement already satisfied: filelock in /usr/local/lib/python3.10/dist-packages (from datasets[vision]) (3.13.1)\n",
            "Requirement already satisfied: numpy>=1.17 in /usr/local/lib/python3.10/dist-packages (from datasets[vision]) (1.25.2)\n",
            "Requirement already satisfied: pyarrow>=12.0.0 in /usr/local/lib/python3.10/dist-packages (from datasets[vision]) (14.0.2)\n",
            "Requirement already satisfied: pyarrow-hotfix in /usr/local/lib/python3.10/dist-packages (from datasets[vision]) (0.6)\n",
            "Requirement already satisfied: dill<0.3.9,>=0.3.0 in /usr/local/lib/python3.10/dist-packages (from datasets[vision]) (0.3.8)\n",
            "Requirement already satisfied: pandas in /usr/local/lib/python3.10/dist-packages (from datasets[vision]) (1.5.3)\n",
            "Requirement already satisfied: requests>=2.19.0 in /usr/local/lib/python3.10/dist-packages (from datasets[vision]) (2.31.0)\n",
            "Requirement already satisfied: tqdm>=4.62.1 in /usr/local/lib/python3.10/dist-packages (from datasets[vision]) (4.66.2)\n",
            "Requirement already satisfied: xxhash in /usr/local/lib/python3.10/dist-packages (from datasets[vision]) (3.4.1)\n",
            "Requirement already satisfied: multiprocess in /usr/local/lib/python3.10/dist-packages (from datasets[vision]) (0.70.16)\n",
            "Requirement already satisfied: fsspec[http]<=2023.10.0,>=2023.1.0 in /usr/local/lib/python3.10/dist-packages (from datasets[vision]) (2023.6.0)\n",
            "Requirement already satisfied: aiohttp in /usr/local/lib/python3.10/dist-packages (from datasets[vision]) (3.9.3)\n",
            "Requirement already satisfied: huggingface-hub>=0.19.4 in /usr/local/lib/python3.10/dist-packages (from datasets[vision]) (0.20.3)\n",
            "Requirement already satisfied: packaging in /usr/local/lib/python3.10/dist-packages (from datasets[vision]) (23.2)\n",
            "Requirement already satisfied: pyyaml>=5.1 in /usr/local/lib/python3.10/dist-packages (from datasets[vision]) (6.0.1)\n",
            "Requirement already satisfied: Pillow>=6.2.1 in /usr/local/lib/python3.10/dist-packages (from datasets[vision]) (9.4.0)\n",
            "Requirement already satisfied: aiosignal>=1.1.2 in /usr/local/lib/python3.10/dist-packages (from aiohttp->datasets[vision]) (1.3.1)\n",
            "Requirement already satisfied: attrs>=17.3.0 in /usr/local/lib/python3.10/dist-packages (from aiohttp->datasets[vision]) (23.2.0)\n",
            "Requirement already satisfied: frozenlist>=1.1.1 in /usr/local/lib/python3.10/dist-packages (from aiohttp->datasets[vision]) (1.4.1)\n",
            "Requirement already satisfied: multidict<7.0,>=4.5 in /usr/local/lib/python3.10/dist-packages (from aiohttp->datasets[vision]) (6.0.5)\n",
            "Requirement already satisfied: yarl<2.0,>=1.0 in /usr/local/lib/python3.10/dist-packages (from aiohttp->datasets[vision]) (1.9.4)\n",
            "Requirement already satisfied: async-timeout<5.0,>=4.0 in /usr/local/lib/python3.10/dist-packages (from aiohttp->datasets[vision]) (4.0.3)\n",
            "Requirement already satisfied: typing-extensions>=3.7.4.3 in /usr/local/lib/python3.10/dist-packages (from huggingface-hub>=0.19.4->datasets[vision]) (4.9.0)\n",
            "Requirement already satisfied: charset-normalizer<4,>=2 in /usr/local/lib/python3.10/dist-packages (from requests>=2.19.0->datasets[vision]) (3.3.2)\n",
            "Requirement already satisfied: idna<4,>=2.5 in /usr/local/lib/python3.10/dist-packages (from requests>=2.19.0->datasets[vision]) (3.6)\n",
            "Requirement already satisfied: urllib3<3,>=1.21.1 in /usr/local/lib/python3.10/dist-packages (from requests>=2.19.0->datasets[vision]) (2.0.7)\n",
            "Requirement already satisfied: certifi>=2017.4.17 in /usr/local/lib/python3.10/dist-packages (from requests>=2.19.0->datasets[vision]) (2024.2.2)\n",
            "Requirement already satisfied: python-dateutil>=2.8.1 in /usr/local/lib/python3.10/dist-packages (from pandas->datasets[vision]) (2.8.2)\n",
            "Requirement already satisfied: pytz>=2020.1 in /usr/local/lib/python3.10/dist-packages (from pandas->datasets[vision]) (2023.4)\n",
            "Requirement already satisfied: six>=1.5 in /usr/local/lib/python3.10/dist-packages (from python-dateutil>=2.8.1->pandas->datasets[vision]) (1.16.0)\n"
          ]
        }
      ]
    },
    {
      "cell_type": "code",
      "execution_count": null,
      "metadata": {
        "id": "APLkc4zJ_ncE",
        "colab": {
          "base_uri": "https://localhost:8080/",
          "height": 249,
          "referenced_widgets": [
            "d8462bbed95d4b8dbc879f1a74cca24c",
            "1910d32efdff4d84b7aad672e7483a59",
            "d7160f3c614942a0a2a55c5562c1bb27",
            "88bb074446844ca78277b606d9514373",
            "398825126fb94d8c94bbe1227b76d661",
            "cd64fc1430c44f38ad61575ade1651e0",
            "2f8c2371706d45ef8b07184af4524b57",
            "bfcbfd43fdf04d6aba04d2a224252525",
            "505e113b3b694ce4a7d5020935658b07",
            "20998cdba4cd4e7e9848b6230d97f273",
            "05591ce0f8f841b5914945386ee4d815",
            "e03e513508ed40c6a2f8465b1e2b6f88",
            "aac257f837ca4a1e9e229e1b6368e185",
            "de19f6ba643d4a839ba3cefa686a82b1",
            "167fa6b93d4a48188a89408f8ad777cc",
            "2a02a56fc2ff4a8bad0ff2dc0129216c",
            "8e316a02d45e476ca7748686c5c0ee78",
            "134cd0081108443b8ef3aace404743a2",
            "2ea14e52a52142adba83371f58ec0329",
            "fc60a7a5353d4f0a94890a40f74d2e92",
            "5b180126e9284f46b54882d70a6d5127",
            "57dc3806138549cd9086b3c2d8b5102e",
            "308a5588aad341469879fb4a35c93696",
            "99818a956a7b4191836d24e118ea33a6",
            "de8341debbeb40c998cf8bb8f1912d23",
            "3c7f2308c8364178a69943c5f54d935f",
            "c0460067e1b145da99cdd46160adb68f",
            "4e18b9d3c9f149f4a81544c8168eb13a",
            "b27e92bd781344109d93f81836f3a496",
            "b0c331fa68ef4ac4bd7064f9f3c2a5b7",
            "0ed7538b11744e3d81bfe8388e842829",
            "9c966c0a556e4be593c940504d7b080b",
            "d0ccb1d815824dc089c8c396d8dbe9e7",
            "68bdddad34f4484a8eb384df87bae66b",
            "90eb739d066c494db94c535b63500eea",
            "726f33a9e8e645c3a94f48025aa3e10b",
            "954d79a45ff140848d96ec554005f5ee",
            "9dc7d1528e8649cd8c5ada32acf4b5bd",
            "2dabedd9b4714d8fa07f97ce65bb4e12",
            "e9693ae7fa8c45668fa23eba1bae57c7",
            "2b2ee5628bda4f3d84c66d33bc796a85",
            "5085c0bdce0144cf9659962d8f4e49ad",
            "4c57a7e3d52d42e69552a6371f0acd70",
            "a7a79cc7a0fc4cd7989f6505b52c82bb"
          ]
        },
        "outputId": "74ad98fc-63d9-4518-fe08-8332ce1fe128"
      },
      "outputs": [
        {
          "output_type": "stream",
          "name": "stderr",
          "text": [
            "/usr/local/lib/python3.10/dist-packages/huggingface_hub/utils/_token.py:88: UserWarning: \n",
            "The secret `HF_TOKEN` does not exist in your Colab secrets.\n",
            "To authenticate with the Hugging Face Hub, create a token in your settings tab (https://huggingface.co/settings/tokens), set it as secret in your Google Colab and restart your session.\n",
            "You will be able to reuse this secret in all of your notebooks.\n",
            "Please note that authentication is recommended but still optional to access public models or datasets.\n",
            "  warnings.warn(\n"
          ]
        },
        {
          "output_type": "display_data",
          "data": {
            "text/plain": [
              "Downloading readme:   0%|          | 0.00/1.92k [00:00<?, ?B/s]"
            ],
            "application/vnd.jupyter.widget-view+json": {
              "version_major": 2,
              "version_minor": 0,
              "model_id": "d8462bbed95d4b8dbc879f1a74cca24c"
            }
          },
          "metadata": {}
        },
        {
          "output_type": "display_data",
          "data": {
            "text/plain": [
              "Downloading data:   0%|          | 0.00/401M [00:00<?, ?B/s]"
            ],
            "application/vnd.jupyter.widget-view+json": {
              "version_major": 2,
              "version_minor": 0,
              "model_id": "e03e513508ed40c6a2f8465b1e2b6f88"
            }
          },
          "metadata": {}
        },
        {
          "output_type": "display_data",
          "data": {
            "text/plain": [
              "Downloading data:   0%|          | 0.00/460M [00:00<?, ?B/s]"
            ],
            "application/vnd.jupyter.widget-view+json": {
              "version_major": 2,
              "version_minor": 0,
              "model_id": "308a5588aad341469879fb4a35c93696"
            }
          },
          "metadata": {}
        },
        {
          "output_type": "display_data",
          "data": {
            "text/plain": [
              "Generating train split:   0%|          | 0/55447 [00:00<?, ? examples/s]"
            ],
            "application/vnd.jupyter.widget-view+json": {
              "version_major": 2,
              "version_minor": 0,
              "model_id": "68bdddad34f4484a8eb384df87bae66b"
            }
          },
          "metadata": {}
        }
      ],
      "source": [
        "import numpy as np\n",
        "import pandas as pd\n",
        "import matplotlib.pyplot as plt\n",
        "import tensorflow as tf\n",
        "from datasets import list_datasets, load_dataset\n",
        "\n",
        "#Loads dataset from Huggingface\n",
        "dataset = load_dataset(\"Treelar/plant_village\", split = \"train\")"
      ]
    },
    {
      "cell_type": "code",
      "source": [
        "splits = dataset.train_test_split(test_size=0.1)\n",
        "train_ds = splits[\"train\"]\n",
        "test_ds = splits[\"test\"]"
      ],
      "metadata": {
        "id": "-oSdFu3YdQ__"
      },
      "execution_count": null,
      "outputs": []
    },
    {
      "cell_type": "code",
      "source": [
        "train_ds.features"
      ],
      "metadata": {
        "colab": {
          "base_uri": "https://localhost:8080/"
        },
        "id": "YpeMh1A-ePqo",
        "outputId": "f099825b-f4dc-4288-8339-1189154a27c5"
      },
      "execution_count": null,
      "outputs": [
        {
          "output_type": "execute_result",
          "data": {
            "text/plain": [
              "{'image': Image(decode=True, id=None),\n",
              " 'label': ClassLabel(names=['Apple___Apple_scab', 'Apple___Black_rot', 'Apple___Cedar_apple_rust', 'Apple___healthy', 'Background_without_leaves', 'Blueberry___healthy', 'Cherry___Powdery_mildew', 'Cherry___healthy', 'Corn___Cercospora_leaf_spot Gray_leaf_spot', 'Corn___Common_rust', 'Corn___Northern_Leaf_Blight', 'Corn___healthy', 'Grape___Black_rot', 'Grape___Esca_(Black_Measles)', 'Grape___Leaf_blight_(Isariopsis_Leaf_Spot)', 'Grape___healthy', 'Orange___Haunglongbing_(Citrus_greening)', 'Peach___Bacterial_spot', 'Peach___healthy', 'Pepper,_bell___Bacterial_spot', 'Pepper,_bell___healthy', 'Potato___Early_blight', 'Potato___Late_blight', 'Potato___healthy', 'Raspberry___healthy', 'Soybean___healthy', 'Squash___Powdery_mildew', 'Strawberry___Leaf_scorch', 'Strawberry___healthy', 'Tomato___Bacterial_spot', 'Tomato___Early_blight', 'Tomato___Late_blight', 'Tomato___Leaf_Mold', 'Tomato___Septoria_leaf_spot', 'Tomato___Spider_mites Two-spotted_spider_mite', 'Tomato___Target_Spot', 'Tomato___Tomato_Yellow_Leaf_Curl_Virus', 'Tomato___Tomato_mosaic_virus', 'Tomato___healthy'], id=None)}"
            ]
          },
          "metadata": {},
          "execution_count": 6
        }
      ]
    },
    {
      "cell_type": "code",
      "source": [
        "train_ds[0]['image']"
      ],
      "metadata": {
        "colab": {
          "base_uri": "https://localhost:8080/",
          "height": 273
        },
        "id": "0cFat4jueV6W",
        "outputId": "2aad7b93-c877-4721-b8c0-d2d05d1cd4c8"
      },
      "execution_count": null,
      "outputs": [
        {
          "output_type": "execute_result",
          "data": {
            "text/plain": [
              "<PIL.JpegImagePlugin.JpegImageFile image mode=RGB size=256x256>"
            ],
            "image/png": "[encoded data removed]"
          },
          "metadata": {},
          "execution_count": 27
        }
      ]
    },
    {
      "cell_type": "code",
      "source": [
        "id2label = {id: label for id, label in enumerate(train_ds.features['label'].names)}\n",
        "label2id = {label:id for id,label in id2label.items()}\n",
        "id2label"
      ],
      "metadata": {
        "colab": {
          "base_uri": "https://localhost:8080/"
        },
        "id": "22lTHWKGea_6",
        "outputId": "14ba9605-2d8c-43fe-e73c-621c81a51d19"
      },
      "execution_count": null,
      "outputs": [
        {
          "output_type": "execute_result",
          "data": {
            "text/plain": [
              "{0: 'Apple___Apple_scab',\n",
              " 1: 'Apple___Black_rot',\n",
              " 2: 'Apple___Cedar_apple_rust',\n",
              " 3: 'Apple___healthy',\n",
              " 4: 'Background_without_leaves',\n",
              " 5: 'Blueberry___healthy',\n",
              " 6: 'Cherry___Powdery_mildew',\n",
              " 7: 'Cherry___healthy',\n",
              " 8: 'Corn___Cercospora_leaf_spot Gray_leaf_spot',\n",
              " 9: 'Corn___Common_rust',\n",
              " 10: 'Corn___Northern_Leaf_Blight',\n",
              " 11: 'Corn___healthy',\n",
              " 12: 'Grape___Black_rot',\n",
              " 13: 'Grape___Esca_(Black_Measles)',\n",
              " 14: 'Grape___Leaf_blight_(Isariopsis_Leaf_Spot)',\n",
              " 15: 'Grape___healthy',\n",
              " 16: 'Orange___Haunglongbing_(Citrus_greening)',\n",
              " 17: 'Peach___Bacterial_spot',\n",
              " 18: 'Peach___healthy',\n",
              " 19: 'Pepper,_bell___Bacterial_spot',\n",
              " 20: 'Pepper,_bell___healthy',\n",
              " 21: 'Potato___Early_blight',\n",
              " 22: 'Potato___Late_blight',\n",
              " 23: 'Potato___healthy',\n",
              " 24: 'Raspberry___healthy',\n",
              " 25: 'Soybean___healthy',\n",
              " 26: 'Squash___Powdery_mildew',\n",
              " 27: 'Strawberry___Leaf_scorch',\n",
              " 28: 'Strawberry___healthy',\n",
              " 29: 'Tomato___Bacterial_spot',\n",
              " 30: 'Tomato___Early_blight',\n",
              " 31: 'Tomato___Late_blight',\n",
              " 32: 'Tomato___Leaf_Mold',\n",
              " 33: 'Tomato___Septoria_leaf_spot',\n",
              " 34: 'Tomato___Spider_mites Two-spotted_spider_mite',\n",
              " 35: 'Tomato___Target_Spot',\n",
              " 36: 'Tomato___Tomato_Yellow_Leaf_Curl_Virus',\n",
              " 37: 'Tomato___Tomato_mosaic_virus',\n",
              " 38: 'Tomato___healthy'}"
            ]
          },
          "metadata": {},
          "execution_count": 9
        }
      ]
    },
    {
      "cell_type": "code",
      "source": [
        "#Converts image to a numpy array\n",
        "image_array = tf.keras.utils.img_to_array(dataset[0]['image'], dtype=np.uint8)\n",
        "image_array"
      ],
      "metadata": {
        "colab": {
          "base_uri": "https://localhost:8080/",
          "height": 296
        },
        "id": "xFcqPlc_RdAj",
        "outputId": "68876e84-02c9-4567-ad55-72a62c1fe6a6"
      },
      "execution_count": null,
      "outputs": [
        {
          "output_type": "execute_result",
          "data": {
            "text/plain": [
              "array([[[160, 148, 152],\n",
              "        [161, 149, 153],\n",
              "        [161, 149, 153],\n",
              "        ...,\n",
              "        [145, 129, 130],\n",
              "        [142, 126, 127],\n",
              "        [140, 124, 125]],\n",
              "\n",
              "       [[160, 148, 152],\n",
              "        [160, 148, 152],\n",
              "        [160, 148, 152],\n",
              "        ...,\n",
              "        [141, 125, 126],\n",
              "        [139, 123, 124],\n",
              "        [138, 122, 123]],\n",
              "\n",
              "       [[162, 150, 154],\n",
              "        [161, 149, 153],\n",
              "        [160, 148, 152],\n",
              "        ...,\n",
              "        [141, 125, 126],\n",
              "        [142, 126, 127],\n",
              "        [142, 126, 127]],\n",
              "\n",
              "       ...,\n",
              "\n",
              "       [[151, 144, 151],\n",
              "        [150, 143, 150],\n",
              "        [148, 141, 148],\n",
              "        ...,\n",
              "        [ 94,  84,  83],\n",
              "        [ 92,  82,  81],\n",
              "        [ 92,  82,  81]],\n",
              "\n",
              "       [[148, 141, 148],\n",
              "        [147, 140, 147],\n",
              "        [147, 140, 147],\n",
              "        ...,\n",
              "        [ 93,  83,  82],\n",
              "        [ 92,  82,  81],\n",
              "        [ 91,  81,  80]],\n",
              "\n",
              "       [[144, 137, 144],\n",
              "        [144, 137, 144],\n",
              "        [145, 138, 145],\n",
              "        ...,\n",
              "        [ 93,  83,  82],\n",
              "        [ 92,  82,  81],\n",
              "        [ 91,  81,  80]]], dtype=uint8)"
            ],
            "text/html": [
              "<style>\n",
              "      .ndarray_repr .ndarray_raw_data {\n",
              "        display: none;\n",
              "      }\n",
              "      .ndarray_repr.show_array .ndarray_raw_data {\n",
              "        display: block;\n",
              "      }\n",
              "      .ndarray_repr.show_array .ndarray_image_preview {\n",
              "        display: none;\n",
              "      }\n",
              "      </style>\n",
              "      <div id=\"id-a3b017f6-8e06-4931-8fc4-499ef3077eb4\" class=\"ndarray_repr\"><pre>ndarray (256, 256, 3) <button style=\"padding: 0 2px;\">show data</button></pre><img src=\"data:image/png;base64,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\" class=\"ndarray_image_preview\" /><pre class=\"ndarray_raw_data\">array([[[160, 148, 152],\n",
              "        [161, 149, 153],\n",
              "        [161, 149, 153],\n",
              "        ...,\n",
              "        [145, 129, 130],\n",
              "        [142, 126, 127],\n",
              "        [140, 124, 125]],\n",
              "\n",
              "       [[160, 148, 152],\n",
              "        [160, 148, 152],\n",
              "        [160, 148, 152],\n",
              "        ...,\n",
              "        [141, 125, 126],\n",
              "        [139, 123, 124],\n",
              "        [138, 122, 123]],\n",
              "\n",
              "       [[162, 150, 154],\n",
              "        [161, 149, 153],\n",
              "        [160, 148, 152],\n",
              "        ...,\n",
              "        [141, 125, 126],\n",
              "        [142, 126, 127],\n",
              "        [142, 126, 127]],\n",
              "\n",
              "       ...,\n",
              "\n",
              "       [[151, 144, 151],\n",
              "        [150, 143, 150],\n",
              "        [148, 141, 148],\n",
              "        ...,\n",
              "        [ 94,  84,  83],\n",
              "        [ 92,  82,  81],\n",
              "        [ 92,  82,  81]],\n",
              "\n",
              "       [[148, 141, 148],\n",
              "        [147, 140, 147],\n",
              "        [147, 140, 147],\n",
              "        ...,\n",
              "        [ 93,  83,  82],\n",
              "        [ 92,  82,  81],\n",
              "        [ 91,  81,  80]],\n",
              "\n",
              "       [[144, 137, 144],\n",
              "        [144, 137, 144],\n",
              "        [145, 138, 145],\n",
              "        ...,\n",
              "        [ 93,  83,  82],\n",
              "        [ 92,  82,  81],\n",
              "        [ 91,  81,  80]]], dtype=uint8)</pre></div><script>\n",
              "      (() => {\n",
              "      const titles = ['show data', 'hide data'];\n",
              "      let index = 0\n",
              "      document.querySelector('#id-a3b017f6-8e06-4931-8fc4-499ef3077eb4 button').onclick = (e) => {\n",
              "        document.querySelector('#id-a3b017f6-8e06-4931-8fc4-499ef3077eb4').classList.toggle('show_array');\n",
              "        index = (++index) % 2;\n",
              "        document.querySelector('#id-a3b017f6-8e06-4931-8fc4-499ef3077eb4 button').textContent = titles[index];\n",
              "        e.preventDefault();\n",
              "        e.stopPropagation();\n",
              "      }\n",
              "      })();\n",
              "    </script>"
            ]
          },
          "metadata": {},
          "execution_count": 10
        }
      ]
    },
    {
      "cell_type": "code",
      "execution_count": null,
      "metadata": {
        "id": "jq2V7YUiJLNQ"
      },
      "outputs": [],
      "source": [
        "#Transforms the image\n",
        "def train_transforms(examples):\n",
        "    #Stores shape, dtype, and numpy array into pixel values\n",
        "    examples['pixel_values'] = [tf.convert_to_tensor(tf.keras.utils.img_to_array(image.convert(\"RGB\"))) for image in examples['image']]\n",
        "    #stores labes in labels\n",
        "    examples[\"labels\"] = examples[\"label\"]\n",
        "    return examples"
      ]
    },
    {
      "cell_type": "code",
      "source": [
        "#applies transform to images in dataset\n",
        "prepared_train_ds = train_ds.with_transform(train_transforms)"
      ],
      "metadata": {
        "id": "peyR4dMPTXFm"
      },
      "execution_count": null,
      "outputs": []
    },
    {
      "cell_type": "code",
      "source": [
        "prepared_train_ds[1000]"
      ],
      "metadata": {
        "colab": {
          "base_uri": "https://localhost:8080/"
        },
        "id": "LW8mFCcQThj5",
        "outputId": "30e7e86e-d4ad-4590-b5c0-e6ea36f49711"
      },
      "execution_count": null,
      "outputs": [
        {
          "output_type": "execute_result",
          "data": {
            "text/plain": [
              "{'image': <PIL.JpegImagePlugin.JpegImageFile image mode=RGB size=256x256>,\n",
              " 'label': 0,\n",
              " 'pixel_values': <tf.Tensor: shape=(256, 256, 3), dtype=float32, numpy=\n",
              " array([[[162., 153., 172.],\n",
              "         [198., 189., 208.],\n",
              "         [219., 210., 229.],\n",
              "         ...,\n",
              "         [157., 144., 162.],\n",
              "         [141., 128., 146.],\n",
              "         [171., 158., 176.]],\n",
              " \n",
              "        [[219., 210., 229.],\n",
              "         [170., 161., 180.],\n",
              "         [182., 173., 192.],\n",
              "         ...,\n",
              "         [146., 133., 151.],\n",
              "         [170., 157., 175.],\n",
              "         [166., 153., 171.]],\n",
              " \n",
              "        [[179., 170., 189.],\n",
              "         [167., 158., 177.],\n",
              "         [215., 206., 225.],\n",
              "         ...,\n",
              "         [167., 154., 172.],\n",
              "         [116., 103., 121.],\n",
              "         [164., 151., 169.]],\n",
              " \n",
              "        ...,\n",
              " \n",
              "        [[144., 135., 156.],\n",
              "         [140., 131., 152.],\n",
              "         [150., 141., 162.],\n",
              "         ...,\n",
              "         [158., 143., 164.],\n",
              "         [154., 139., 160.],\n",
              "         [147., 132., 153.]],\n",
              " \n",
              "        [[152., 143., 164.],\n",
              "         [157., 148., 169.],\n",
              "         [162., 153., 174.],\n",
              "         ...,\n",
              "         [157., 142., 163.],\n",
              "         [155., 140., 161.],\n",
              "         [140., 125., 146.]],\n",
              " \n",
              "        [[147., 138., 159.],\n",
              "         [150., 141., 162.],\n",
              "         [146., 137., 158.],\n",
              "         ...,\n",
              "         [152., 137., 158.],\n",
              "         [159., 144., 165.],\n",
              "         [148., 133., 154.]]], dtype=float32)>,\n",
              " 'labels': 0}"
            ]
          },
          "metadata": {},
          "execution_count": 31
        }
      ]
    },
    {
      "cell_type": "code",
      "source": [
        "prepared_train_ds[0]['pixel_values'].shape"
      ],
      "metadata": {
        "colab": {
          "base_uri": "https://localhost:8080/"
        },
        "id": "nQPycimyaINB",
        "outputId": "6a94ac95-4e8d-4b4a-c91d-bd2d1b797153"
      },
      "execution_count": null,
      "outputs": [
        {
          "output_type": "execute_result",
          "data": {
            "text/plain": [
              "TensorShape([256, 256, 3])"
            ]
          },
          "metadata": {},
          "execution_count": 19
        }
      ]
    },
    {
      "cell_type": "code",
      "source": [
        "tf_ds = prepared_train_ds.to_tf_dataset(\n",
        "            columns=[\"pixel_values\"],\n",
        "            label_cols=[\"labels\"],\n",
        "            batch_size=2,\n",
        "            shuffle=True\n",
        "            )"
      ],
      "metadata": {
        "colab": {
          "base_uri": "https://localhost:8080/"
        },
        "id": "qcFWg1-HgWXv",
        "outputId": "b8a0f6ec-ebee-4673-a302-b210e8c37f9d"
      },
      "execution_count": null,
      "outputs": [
        {
          "output_type": "stream",
          "name": "stderr",
          "text": [
            "/usr/local/lib/python3.10/dist-packages/datasets/arrow_dataset.py:401: FutureWarning: The output of `to_tf_dataset` will change when a passing single element list for `labels` or `columns` in the next datasets version. To return a tuple structure rather than dict, pass a single string.\n",
            "Old behaviour: columns=['a'], labels=['labels'] -> (tf.Tensor, tf.Tensor)  \n",
            "             : columns='a', labels='labels' -> (tf.Tensor, tf.Tensor)  \n",
            "New behaviour: columns=['a'],labels=['labels'] -> ({'a': tf.Tensor}, {'labels': tf.Tensor})  \n",
            "             : columns='a', labels='labels' -> (tf.Tensor, tf.Tensor) \n",
            "  warnings.warn(\n"
          ]
        }
      ]
    },
    {
      "cell_type": "code",
      "source": [
        "num_classes = len(id2label)\n",
        "img_height,img_width = (256,256)\n",
        "\n",
        "model = tf.keras.Sequential([\n",
        "  tf.keras.layers.Rescaling(1./255, input_shape=(img_height, img_width, 3)),\n",
        "  tf.keras.layers.Conv2D(16, 3, padding='same', activation='relu'),\n",
        "  tf.keras.layers.MaxPooling2D(),\n",
        "  tf.keras.layers.Conv2D(32, 3, padding='same', activation='relu'),\n",
        "  tf.keras.layers.MaxPooling2D(),\n",
        "  tf.keras.layers.Conv2D(64, 3, padding='same', activation='relu'),\n",
        "  tf.keras.layers.MaxPooling2D(),\n",
        "  tf.keras.layers.Flatten(),\n",
        "  tf.keras.layers.Dense(128, activation='relu'),\n",
        "  tf.keras.layers.Dense(num_classes)\n",
        "])"
      ],
      "metadata": {
        "id": "e3ngrolihXRV"
      },
      "execution_count": null,
      "outputs": []
    },
    {
      "cell_type": "code",
      "source": [
        "model.compile(optimizer='adam',\n",
        "              loss=tf.keras.losses.SparseCategoricalCrossentropy(from_logits=True),\n",
        "              metrics=['accuracy'])"
      ],
      "metadata": {
        "id": "GSfBpAyfltuG"
      },
      "execution_count": null,
      "outputs": []
    },
    {
      "cell_type": "code",
      "source": [
        "model.summary()"
      ],
      "metadata": {
        "colab": {
          "base_uri": "https://localhost:8080/"
        },
        "id": "JwqvKBQblwDg",
        "outputId": "8053e8ea-53c9-4686-ab51-378e6531ea9d"
      },
      "execution_count": null,
      "outputs": [
        {
          "output_type": "stream",
          "name": "stdout",
          "text": [
            "Model: \"sequential\"\n",
            "_________________________________________________________________\n",
            " Layer (type)                Output Shape              Param #   \n",
            "=================================================================\n",
            " rescaling (Rescaling)       (None, 256, 256, 3)       0         \n",
            "                                                                 \n",
            " conv2d (Conv2D)             (None, 256, 256, 16)      448       \n",
            "                                                                 \n",
            " max_pooling2d (MaxPooling2  (None, 128, 128, 16)      0         \n",
            " D)                                                              \n",
            "                                                                 \n",
            " conv2d_1 (Conv2D)           (None, 128, 128, 32)      4640      \n",
            "                                                                 \n",
            " max_pooling2d_1 (MaxPoolin  (None, 64, 64, 32)        0         \n",
            " g2D)                                                            \n",
            "                                                                 \n",
            " conv2d_2 (Conv2D)           (None, 64, 64, 64)        18496     \n",
            "                                                                 \n",
            " max_pooling2d_2 (MaxPoolin  (None, 32, 32, 64)        0         \n",
            " g2D)                                                            \n",
            "                                                                 \n",
            " flatten (Flatten)           (None, 65536)             0         \n",
            "                                                                 \n",
            " dense (Dense)               (None, 128)               8388736   \n",
            "                                                                 \n",
            " dense_1 (Dense)             (None, 39)                5031      \n",
            "                                                                 \n",
            "=================================================================\n",
            "Total params: 8417351 (32.11 MB)\n",
            "Trainable params: 8417351 (32.11 MB)\n",
            "Non-trainable params: 0 (0.00 Byte)\n",
            "_________________________________________________________________\n"
          ]
        }
      ]
    },
    {
      "cell_type": "code",
      "source": [
        "#TODO:\n",
        "#Apply transform function to verification data\n",
        "#Fit model"
      ],
      "metadata": {
        "id": "0FbyhLxGl--7"
      },
      "execution_count": null,
      "outputs": []
    }
  ],
  "metadata": {
    "colab": {
      "provenance": [],
      "include_colab_link": true
    },
    "kernelspec": {
      "display_name": "Python 3",
      "name": "python3"
    },
    "language_info": {
      "name": "python"
    },
    "widgets": {
      "application/vnd.jupyter.widget-state+json": {
        "d8462bbed95d4b8dbc879f1a74cca24c": {
          "model_module": "@jupyter-widgets/controls",
          "model_name": "HBoxModel",
          "model_module_version": "1.5.0",
          "state": {
            "_dom_classes": [],
            "_model_module": "@jupyter-widgets/controls",
            "_model_module_version": "1.5.0",
            "_model_name": "HBoxModel",
            "_view_count": null,
            "_view_module": "@jupyter-widgets/controls",
            "_view_module_version": "1.5.0",
            "_view_name": "HBoxView",
            "box_style": "",
            "children": [
              "IPY_MODEL_1910d32efdff4d84b7aad672e7483a59",
              "IPY_MODEL_d7160f3c614942a0a2a55c5562c1bb27",
              "IPY_MODEL_88bb074446844ca78277b606d9514373"
            ],
            "layout": "IPY_MODEL_398825126fb94d8c94bbe1227b76d661"
          }
        },
        "1910d32efdff4d84b7aad672e7483a59": {
          "model_module": "@jupyter-widgets/controls",
          "model_name": "HTMLModel",
          "model_module_version": "1.5.0",
          "state": {
            "_dom_classes": [],
            "_model_module": "@jupyter-widgets/controls",
            "_model_module_version": "1.5.0",
            "_model_name": "HTMLModel",
            "_view_count": null,
            "_view_module": "@jupyter-widgets/controls",
            "_view_module_version": "1.5.0",
            "_view_name": "HTMLView",
            "description": "",
            "description_tooltip": null,
            "layout": "IPY_MODEL_cd64fc1430c44f38ad61575ade1651e0",
            "placeholder": "​",
            "style": "IPY_MODEL_2f8c2371706d45ef8b07184af4524b57",
            "value": "Downloading readme: 100%"
          }
        },
        "d7160f3c614942a0a2a55c5562c1bb27": {
          "model_module": "@jupyter-widgets/controls",
          "model_name": "FloatProgressModel",
          "model_module_version": "1.5.0",
          "state": {
            "_dom_classes": [],
            "_model_module": "@jupyter-widgets/controls",
            "_model_module_version": "1.5.0",
            "_model_name": "FloatProgressModel",
            "_view_count": null,
            "_view_module": "@jupyter-widgets/controls",
            "_view_module_version": "1.5.0",
            "_view_name": "ProgressView",
            "bar_style": "success",
            "description": "",
            "description_tooltip": null,
            "layout": "IPY_MODEL_bfcbfd43fdf04d6aba04d2a224252525",
            "max": 1924,
            "min": 0,
            "orientation": "horizontal",
            "style": "IPY_MODEL_505e113b3b694ce4a7d5020935658b07",
            "value": 1924
          }
        },
        "88bb074446844ca78277b606d9514373": {
          "model_module": "@jupyter-widgets/controls",
          "model_name": "HTMLModel",
          "model_module_version": "1.5.0",
          "state": {
            "_dom_classes": [],
            "_model_module": "@jupyter-widgets/controls",
            "_model_module_version": "1.5.0",
            "_model_name": "HTMLModel",
            "_view_count": null,
            "_view_module": "@jupyter-widgets/controls",
            "_view_module_version": "1.5.0",
            "_view_name": "HTMLView",
            "description": "",
            "description_tooltip": null,
            "layout": "IPY_MODEL_20998cdba4cd4e7e9848b6230d97f273",
            "placeholder": "​",
            "style": "IPY_MODEL_05591ce0f8f841b5914945386ee4d815",
            "value": " 1.92k/1.92k [00:00&lt;00:00, 22.6kB/s]"
          }
        },
        "398825126fb94d8c94bbe1227b76d661": {
          "model_module": "@jupyter-widgets/base",
          "model_name": "LayoutModel",
          "model_module_version": "1.2.0",
          "state": {
            "_model_module": "@jupyter-widgets/base",
            "_model_module_version": "1.2.0",
            "_model_name": "LayoutModel",
            "_view_count": null,
            "_view_module": "@jupyter-widgets/base",
            "_view_module_version": "1.2.0",
            "_view_name": "LayoutView",
            "align_content": null,
            "align_items": null,
            "align_self": null,
            "border": null,
            "bottom": null,
            "display": null,
            "flex": null,
            "flex_flow": null,
            "grid_area": null,
            "grid_auto_columns": null,
            "grid_auto_flow": null,
            "grid_auto_rows": null,
            "grid_column": null,
            "grid_gap": null,
            "grid_row": null,
            "grid_template_areas": null,
            "grid_template_columns": null,
            "grid_template_rows": null,
            "height": null,
            "justify_content": null,
            "justify_items": null,
            "left": null,
            "margin": null,
            "max_height": null,
            "max_width": null,
            "min_height": null,
            "min_width": null,
            "object_fit": null,
            "object_position": null,
            "order": null,
            "overflow": null,
            "overflow_x": null,
            "overflow_y": null,
            "padding": null,
            "right": null,
            "top": null,
            "visibility": null,
            "width": null
          }
        },
        "cd64fc1430c44f38ad61575ade1651e0": {
          "model_module": "@jupyter-widgets/base",
          "model_name": "LayoutModel",
          "model_module_version": "1.2.0",
          "state": {
            "_model_module": "@jupyter-widgets/base",
            "_model_module_version": "1.2.0",
            "_model_name": "LayoutModel",
            "_view_count": null,
            "_view_module": "@jupyter-widgets/base",
            "_view_module_version": "1.2.0",
            "_view_name": "LayoutView",
            "align_content": null,
            "align_items": null,
            "align_self": null,
            "border": null,
            "bottom": null,
            "display": null,
            "flex": null,
            "flex_flow": null,
            "grid_area": null,
            "grid_auto_columns": null,
            "grid_auto_flow": null,
            "grid_auto_rows": null,
            "grid_column": null,
            "grid_gap": null,
            "grid_row": null,
            "grid_template_areas": null,
            "grid_template_columns": null,
            "grid_template_rows": null,
            "height": null,
            "justify_content": null,
            "justify_items": null,
            "left": null,
            "margin": null,
            "max_height": null,
            "max_width": null,
            "min_height": null,
            "min_width": null,
            "object_fit": null,
            "object_position": null,
            "order": null,
            "overflow": null,
            "overflow_x": null,
            "overflow_y": null,
            "padding": null,
            "right": null,
            "top": null,
            "visibility": null,
            "width": null
          }
        },
        "2f8c2371706d45ef8b07184af4524b57": {
          "model_module": "@jupyter-widgets/controls",
          "model_name": "DescriptionStyleModel",
          "model_module_version": "1.5.0",
          "state": {
            "_model_module": "@jupyter-widgets/controls",
            "_model_module_version": "1.5.0",
            "_model_name": "DescriptionStyleModel",
            "_view_count": null,
            "_view_module": "@jupyter-widgets/base",
            "_view_module_version": "1.2.0",
            "_view_name": "StyleView",
            "description_width": ""
          }
        },
        "bfcbfd43fdf04d6aba04d2a224252525": {
          "model_module": "@jupyter-widgets/base",
          "model_name": "LayoutModel",
          "model_module_version": "1.2.0",
          "state": {
            "_model_module": "@jupyter-widgets/base",
            "_model_module_version": "1.2.0",
            "_model_name": "LayoutModel",
            "_view_count": null,
            "_view_module": "@jupyter-widgets/base",
            "_view_module_version": "1.2.0",
            "_view_name": "LayoutView",
            "align_content": null,
            "align_items": null,
            "align_self": null,
            "border": null,
            "bottom": null,
            "display": null,
            "flex": null,
            "flex_flow": null,
            "grid_area": null,
            "grid_auto_columns": null,
            "grid_auto_flow": null,
            "grid_auto_rows": null,
            "grid_column": null,
            "grid_gap": null,
            "grid_row": null,
            "grid_template_areas": null,
            "grid_template_columns": null,
            "grid_template_rows": null,
            "height": null,
            "justify_content": null,
            "justify_items": null,
            "left": null,
            "margin": null,
            "max_height": null,
            "max_width": null,
            "min_height": null,
            "min_width": null,
            "object_fit": null,
            "object_position": null,
            "order": null,
            "overflow": null,
            "overflow_x": null,
            "overflow_y": null,
            "padding": null,
            "right": null,
            "top": null,
            "visibility": null,
            "width": null
          }
        },
        "505e113b3b694ce4a7d5020935658b07": {
          "model_module": "@jupyter-widgets/controls",
          "model_name": "ProgressStyleModel",
          "model_module_version": "1.5.0",
          "state": {
            "_model_module": "@jupyter-widgets/controls",
            "_model_module_version": "1.5.0",
            "_model_name": "ProgressStyleModel",
            "_view_count": null,
            "_view_module": "@jupyter-widgets/base",
            "_view_module_version": "1.2.0",
            "_view_name": "StyleView",
            "bar_color": null,
            "description_width": ""
          }
        },
        "20998cdba4cd4e7e9848b6230d97f273": {
          "model_module": "@jupyter-widgets/base",
          "model_name": "LayoutModel",
          "model_module_version": "1.2.0",
          "state": {
            "_model_module": "@jupyter-widgets/base",
            "_model_module_version": "1.2.0",
            "_model_name": "LayoutModel",
            "_view_count": null,
            "_view_module": "@jupyter-widgets/base",
            "_view_module_version": "1.2.0",
            "_view_name": "LayoutView",
            "align_content": null,
            "align_items": null,
            "align_self": null,
            "border": null,
            "bottom": null,
            "display": null,
            "flex": null,
            "flex_flow": null,
            "grid_area": null,
            "grid_auto_columns": null,
            "grid_auto_flow": null,
            "grid_auto_rows": null,
            "grid_column": null,
            "grid_gap": null,
            "grid_row": null,
            "grid_template_areas": null,
            "grid_template_columns": null,
            "grid_template_rows": null,
            "height": null,
            "justify_content": null,
            "justify_items": null,
            "left": null,
            "margin": null,
            "max_height": null,
            "max_width": null,
            "min_height": null,
            "min_width": null,
            "object_fit": null,
            "object_position": null,
            "order": null,
            "overflow": null,
            "overflow_x": null,
            "overflow_y": null,
            "padding": null,
            "right": null,
            "top": null,
            "visibility": null,
            "width": null
          }
        },
        "05591ce0f8f841b5914945386ee4d815": {
          "model_module": "@jupyter-widgets/controls",
          "model_name": "DescriptionStyleModel",
          "model_module_version": "1.5.0",
          "state": {
            "_model_module": "@jupyter-widgets/controls",
            "_model_module_version": "1.5.0",
            "_model_name": "DescriptionStyleModel",
            "_view_count": null,
            "_view_module": "@jupyter-widgets/base",
            "_view_module_version": "1.2.0",
            "_view_name": "StyleView",
            "description_width": ""
          }
        },
        "e03e513508ed40c6a2f8465b1e2b6f88": {
          "model_module": "@jupyter-widgets/controls",
          "model_name": "HBoxModel",
          "model_module_version": "1.5.0",
          "state": {
            "_dom_classes": [],
            "_model_module": "@jupyter-widgets/controls",
            "_model_module_version": "1.5.0",
            "_model_name": "HBoxModel",
            "_view_count": null,
            "_view_module": "@jupyter-widgets/controls",
            "_view_module_version": "1.5.0",
            "_view_name": "HBoxView",
            "box_style": "",
            "children": [
              "IPY_MODEL_aac257f837ca4a1e9e229e1b6368e185",
              "IPY_MODEL_de19f6ba643d4a839ba3cefa686a82b1",
              "IPY_MODEL_167fa6b93d4a48188a89408f8ad777cc"
            ],
            "layout": "IPY_MODEL_2a02a56fc2ff4a8bad0ff2dc0129216c"
          }
        },
        "aac257f837ca4a1e9e229e1b6368e185": {
          "model_module": "@jupyter-widgets/controls",
          "model_name": "HTMLModel",
          "model_module_version": "1.5.0",
          "state": {
            "_dom_classes": [],
            "_model_module": "@jupyter-widgets/controls",
            "_model_module_version": "1.5.0",
            "_model_name": "HTMLModel",
            "_view_count": null,
            "_view_module": "@jupyter-widgets/controls",
            "_view_module_version": "1.5.0",
            "_view_name": "HTMLView",
            "description": "",
            "description_tooltip": null,
            "layout": "IPY_MODEL_8e316a02d45e476ca7748686c5c0ee78",
            "placeholder": "​",
            "style": "IPY_MODEL_134cd0081108443b8ef3aace404743a2",
            "value": "Downloading data: 100%"
          }
        },
        "de19f6ba643d4a839ba3cefa686a82b1": {
          "model_module": "@jupyter-widgets/controls",
          "model_name": "FloatProgressModel",
          "model_module_version": "1.5.0",
          "state": {
            "_dom_classes": [],
            "_model_module": "@jupyter-widgets/controls",
            "_model_module_version": "1.5.0",
            "_model_name": "FloatProgressModel",
            "_view_count": null,
            "_view_module": "@jupyter-widgets/controls",
            "_view_module_version": "1.5.0",
            "_view_name": "ProgressView",
            "bar_style": "success",
            "description": "",
            "description_tooltip": null,
            "layout": "IPY_MODEL_2ea14e52a52142adba83371f58ec0329",
            "max": 400759198,
            "min": 0,
            "orientation": "horizontal",
            "style": "IPY_MODEL_fc60a7a5353d4f0a94890a40f74d2e92",
            "value": 400759198
          }
        },
        "167fa6b93d4a48188a89408f8ad777cc": {
          "model_module": "@jupyter-widgets/controls",
          "model_name": "HTMLModel",
          "model_module_version": "1.5.0",
          "state": {
            "_dom_classes": [],
            "_model_module": "@jupyter-widgets/controls",
            "_model_module_version": "1.5.0",
            "_model_name": "HTMLModel",
            "_view_count": null,
            "_view_module": "@jupyter-widgets/controls",
            "_view_module_version": "1.5.0",
            "_view_name": "HTMLView",
            "description": "",
            "description_tooltip": null,
            "layout": "IPY_MODEL_5b180126e9284f46b54882d70a6d5127",
            "placeholder": "​",
            "style": "IPY_MODEL_57dc3806138549cd9086b3c2d8b5102e",
            "value": " 401M/401M [00:17&lt;00:00, 26.1MB/s]"
          }
        },
        "2a02a56fc2ff4a8bad0ff2dc0129216c": {
          "model_module": "@jupyter-widgets/base",
          "model_name": "LayoutModel",
          "model_module_version": "1.2.0",
          "state": {
            "_model_module": "@jupyter-widgets/base",
            "_model_module_version": "1.2.0",
            "_model_name": "LayoutModel",
            "_view_count": null,
            "_view_module": "@jupyter-widgets/base",
            "_view_module_version": "1.2.0",
            "_view_name": "LayoutView",
            "align_content": null,
            "align_items": null,
            "align_self": null,
            "border": null,
            "bottom": null,
            "display": null,
            "flex": null,
            "flex_flow": null,
            "grid_area": null,
            "grid_auto_columns": null,
            "grid_auto_flow": null,
            "grid_auto_rows": null,
            "grid_column": null,
            "grid_gap": null,
            "grid_row": null,
            "grid_template_areas": null,
            "grid_template_columns": null,
            "grid_template_rows": null,
            "height": null,
            "justify_content": null,
            "justify_items": null,
            "left": null,
            "margin": null,
            "max_height": null,
            "max_width": null,
            "min_height": null,
            "min_width": null,
            "object_fit": null,
            "object_position": null,
            "order": null,
            "overflow": null,
            "overflow_x": null,
            "overflow_y": null,
            "padding": null,
            "right": null,
            "top": null,
            "visibility": null,
            "width": null
          }
        },
        "8e316a02d45e476ca7748686c5c0ee78": {
          "model_module": "@jupyter-widgets/base",
          "model_name": "LayoutModel",
          "model_module_version": "1.2.0",
          "state": {
            "_model_module": "@jupyter-widgets/base",
            "_model_module_version": "1.2.0",
            "_model_name": "LayoutModel",
            "_view_count": null,
            "_view_module": "@jupyter-widgets/base",
            "_view_module_version": "1.2.0",
            "_view_name": "LayoutView",
            "align_content": null,
            "align_items": null,
            "align_self": null,
            "border": null,
            "bottom": null,
            "display": null,
            "flex": null,
            "flex_flow": null,
            "grid_area": null,
            "grid_auto_columns": null,
            "grid_auto_flow": null,
            "grid_auto_rows": null,
            "grid_column": null,
            "grid_gap": null,
            "grid_row": null,
            "grid_template_areas": null,
            "grid_template_columns": null,
            "grid_template_rows": null,
            "height": null,
            "justify_content": null,
            "justify_items": null,
            "left": null,
            "margin": null,
            "max_height": null,
            "max_width": null,
            "min_height": null,
            "min_width": null,
            "object_fit": null,
            "object_position": null,
            "order": null,
            "overflow": null,
            "overflow_x": null,
            "overflow_y": null,
            "padding": null,
            "right": null,
            "top": null,
            "visibility": null,
            "width": null
          }
        },
        "134cd0081108443b8ef3aace404743a2": {
          "model_module": "@jupyter-widgets/controls",
          "model_name": "DescriptionStyleModel",
          "model_module_version": "1.5.0",
          "state": {
            "_model_module": "@jupyter-widgets/controls",
            "_model_module_version": "1.5.0",
            "_model_name": "DescriptionStyleModel",
            "_view_count": null,
            "_view_module": "@jupyter-widgets/base",
            "_view_module_version": "1.2.0",
            "_view_name": "StyleView",
            "description_width": ""
          }
        },
        "2ea14e52a52142adba83371f58ec0329": {
          "model_module": "@jupyter-widgets/base",
          "model_name": "LayoutModel",
          "model_module_version": "1.2.0",
          "state": {
            "_model_module": "@jupyter-widgets/base",
            "_model_module_version": "1.2.0",
            "_model_name": "LayoutModel",
            "_view_count": null,
            "_view_module": "@jupyter-widgets/base",
            "_view_module_version": "1.2.0",
            "_view_name": "LayoutView",
            "align_content": null,
            "align_items": null,
            "align_self": null,
            "border": null,
            "bottom": null,
            "display": null,
            "flex": null,
            "flex_flow": null,
            "grid_area": null,
            "grid_auto_columns": null,
            "grid_auto_flow": null,
            "grid_auto_rows": null,
            "grid_column": null,
            "grid_gap": null,
            "grid_row": null,
            "grid_template_areas": null,
            "grid_template_columns": null,
            "grid_template_rows": null,
            "height": null,
            "justify_content": null,
            "justify_items": null,
            "left": null,
            "margin": null,
            "max_height": null,
            "max_width": null,
            "min_height": null,
            "min_width": null,
            "object_fit": null,
            "object_position": null,
            "order": null,
            "overflow": null,
            "overflow_x": null,
            "overflow_y": null,
            "padding": null,
            "right": null,
            "top": null,
            "visibility": null,
            "width": null
          }
        },
        "fc60a7a5353d4f0a94890a40f74d2e92": {
          "model_module": "@jupyter-widgets/controls",
          "model_name": "ProgressStyleModel",
          "model_module_version": "1.5.0",
          "state": {
            "_model_module": "@jupyter-widgets/controls",
            "_model_module_version": "1.5.0",
            "_model_name": "ProgressStyleModel",
            "_view_count": null,
            "_view_module": "@jupyter-widgets/base",
            "_view_module_version": "1.2.0",
            "_view_name": "StyleView",
            "bar_color": null,
            "description_width": ""
          }
        },
        "5b180126e9284f46b54882d70a6d5127": {
          "model_module": "@jupyter-widgets/base",
          "model_name": "LayoutModel",
          "model_module_version": "1.2.0",
          "state": {
            "_model_module": "@jupyter-widgets/base",
            "_model_module_version": "1.2.0",
            "_model_name": "LayoutModel",
            "_view_count": null,
            "_view_module": "@jupyter-widgets/base",
            "_view_module_version": "1.2.0",
            "_view_name": "LayoutView",
            "align_content": null,
            "align_items": null,
            "align_self": null,
            "border": null,
            "bottom": null,
            "display": null,
            "flex": null,
            "flex_flow": null,
            "grid_area": null,
            "grid_auto_columns": null,
            "grid_auto_flow": null,
            "grid_auto_rows": null,
            "grid_column": null,
            "grid_gap": null,
            "grid_row": null,
            "grid_template_areas": null,
            "grid_template_columns": null,
            "grid_template_rows": null,
            "height": null,
            "justify_content": null,
            "justify_items": null,
            "left": null,
            "margin": null,
            "max_height": null,
            "max_width": null,
            "min_height": null,
            "min_width": null,
            "object_fit": null,
            "object_position": null,
            "order": null,
            "overflow": null,
            "overflow_x": null,
            "overflow_y": null,
            "padding": null,
            "right": null,
            "top": null,
            "visibility": null,
            "width": null
          }
        },
        "57dc3806138549cd9086b3c2d8b5102e": {
          "model_module": "@jupyter-widgets/controls",
          "model_name": "DescriptionStyleModel",
          "model_module_version": "1.5.0",
          "state": {
            "_model_module": "@jupyter-widgets/controls",
            "_model_module_version": "1.5.0",
            "_model_name": "DescriptionStyleModel",
            "_view_count": null,
            "_view_module": "@jupyter-widgets/base",
            "_view_module_version": "1.2.0",
            "_view_name": "StyleView",
            "description_width": ""
          }
        },
        "308a5588aad341469879fb4a35c93696": {
          "model_module": "@jupyter-widgets/controls",
          "model_name": "HBoxModel",
          "model_module_version": "1.5.0",
          "state": {
            "_dom_classes": [],
            "_model_module": "@jupyter-widgets/controls",
            "_model_module_version": "1.5.0",
            "_model_name": "HBoxModel",
            "_view_count": null,
            "_view_module": "@jupyter-widgets/controls",
            "_view_module_version": "1.5.0",
            "_view_name": "HBoxView",
            "box_style": "",
            "children": [
              "IPY_MODEL_99818a956a7b4191836d24e118ea33a6",
              "IPY_MODEL_de8341debbeb40c998cf8bb8f1912d23",
              "IPY_MODEL_3c7f2308c8364178a69943c5f54d935f"
            ],
            "layout": "IPY_MODEL_c0460067e1b145da99cdd46160adb68f"
          }
        },
        "99818a956a7b4191836d24e118ea33a6": {
          "model_module": "@jupyter-widgets/controls",
          "model_name": "HTMLModel",
          "model_module_version": "1.5.0",
          "state": {
            "_dom_classes": [],
            "_model_module": "@jupyter-widgets/controls",
            "_model_module_version": "1.5.0",
            "_model_name": "HTMLModel",
            "_view_count": null,
            "_view_module": "@jupyter-widgets/controls",
            "_view_module_version": "1.5.0",
            "_view_name": "HTMLView",
            "description": "",
            "description_tooltip": null,
            "layout": "IPY_MODEL_4e18b9d3c9f149f4a81544c8168eb13a",
            "placeholder": "​",
            "style": "IPY_MODEL_b27e92bd781344109d93f81836f3a496",
            "value": "Downloading data: 100%"
          }
        },
        "de8341debbeb40c998cf8bb8f1912d23": {
          "model_module": "@jupyter-widgets/controls",
          "model_name": "FloatProgressModel",
          "model_module_version": "1.5.0",
          "state": {
            "_dom_classes": [],
            "_model_module": "@jupyter-widgets/controls",
            "_model_module_version": "1.5.0",
            "_model_name": "FloatProgressModel",
            "_view_count": null,
            "_view_module": "@jupyter-widgets/controls",
            "_view_module_version": "1.5.0",
            "_view_name": "ProgressView",
            "bar_style": "success",
            "description": "",
            "description_tooltip": null,
            "layout": "IPY_MODEL_b0c331fa68ef4ac4bd7064f9f3c2a5b7",
            "max": 459968278,
            "min": 0,
            "orientation": "horizontal",
            "style": "IPY_MODEL_0ed7538b11744e3d81bfe8388e842829",
            "value": 459968278
          }
        },
        "3c7f2308c8364178a69943c5f54d935f": {
          "model_module": "@jupyter-widgets/controls",
          "model_name": "HTMLModel",
          "model_module_version": "1.5.0",
          "state": {
            "_dom_classes": [],
            "_model_module": "@jupyter-widgets/controls",
            "_model_module_version": "1.5.0",
            "_model_name": "HTMLModel",
            "_view_count": null,
            "_view_module": "@jupyter-widgets/controls",
            "_view_module_version": "1.5.0",
            "_view_name": "HTMLView",
            "description": "",
            "description_tooltip": null,
            "layout": "IPY_MODEL_9c966c0a556e4be593c940504d7b080b",
            "placeholder": "​",
            "style": "IPY_MODEL_d0ccb1d815824dc089c8c396d8dbe9e7",
            "value": " 460M/460M [00:24&lt;00:00, 24.3MB/s]"
          }
        },
        "c0460067e1b145da99cdd46160adb68f": {
          "model_module": "@jupyter-widgets/base",
          "model_name": "LayoutModel",
          "model_module_version": "1.2.0",
          "state": {
            "_model_module": "@jupyter-widgets/base",
            "_model_module_version": "1.2.0",
            "_model_name": "LayoutModel",
            "_view_count": null,
            "_view_module": "@jupyter-widgets/base",
            "_view_module_version": "1.2.0",
            "_view_name": "LayoutView",
            "align_content": null,
            "align_items": null,
            "align_self": null,
            "border": null,
            "bottom": null,
            "display": null,
            "flex": null,
            "flex_flow": null,
            "grid_area": null,
            "grid_auto_columns": null,
            "grid_auto_flow": null,
            "grid_auto_rows": null,
            "grid_column": null,
            "grid_gap": null,
            "grid_row": null,
            "grid_template_areas": null,
            "grid_template_columns": null,
            "grid_template_rows": null,
            "height": null,
            "justify_content": null,
            "justify_items": null,
            "left": null,
            "margin": null,
            "max_height": null,
            "max_width": null,
            "min_height": null,
            "min_width": null,
            "object_fit": null,
            "object_position": null,
            "order": null,
            "overflow": null,
            "overflow_x": null,
            "overflow_y": null,
            "padding": null,
            "right": null,
            "top": null,
            "visibility": null,
            "width": null
          }
        },
        "4e18b9d3c9f149f4a81544c8168eb13a": {
          "model_module": "@jupyter-widgets/base",
          "model_name": "LayoutModel",
          "model_module_version": "1.2.0",
          "state": {
            "_model_module": "@jupyter-widgets/base",
            "_model_module_version": "1.2.0",
            "_model_name": "LayoutModel",
            "_view_count": null,
            "_view_module": "@jupyter-widgets/base",
            "_view_module_version": "1.2.0",
            "_view_name": "LayoutView",
            "align_content": null,
            "align_items": null,
            "align_self": null,
            "border": null,
            "bottom": null,
            "display": null,
            "flex": null,
            "flex_flow": null,
            "grid_area": null,
            "grid_auto_columns": null,
            "grid_auto_flow": null,
            "grid_auto_rows": null,
            "grid_column": null,
            "grid_gap": null,
            "grid_row": null,
            "grid_template_areas": null,
            "grid_template_columns": null,
            "grid_template_rows": null,
            "height": null,
            "justify_content": null,
            "justify_items": null,
            "left": null,
            "margin": null,
            "max_height": null,
            "max_width": null,
            "min_height": null,
            "min_width": null,
            "object_fit": null,
            "object_position": null,
            "order": null,
            "overflow": null,
            "overflow_x": null,
            "overflow_y": null,
            "padding": null,
            "right": null,
            "top": null,
            "visibility": null,
            "width": null
          }
        },
        "b27e92bd781344109d93f81836f3a496": {
          "model_module": "@jupyter-widgets/controls",
          "model_name": "DescriptionStyleModel",
          "model_module_version": "1.5.0",
          "state": {
            "_model_module": "@jupyter-widgets/controls",
            "_model_module_version": "1.5.0",
            "_model_name": "DescriptionStyleModel",
            "_view_count": null,
            "_view_module": "@jupyter-widgets/base",
            "_view_module_version": "1.2.0",
            "_view_name": "StyleView",
            "description_width": ""
          }
        },
        "b0c331fa68ef4ac4bd7064f9f3c2a5b7": {
          "model_module": "@jupyter-widgets/base",
          "model_name": "LayoutModel",
          "model_module_version": "1.2.0",
          "state": {
            "_model_module": "@jupyter-widgets/base",
            "_model_module_version": "1.2.0",
            "_model_name": "LayoutModel",
            "_view_count": null,
            "_view_module": "@jupyter-widgets/base",
            "_view_module_version": "1.2.0",
            "_view_name": "LayoutView",
            "align_content": null,
            "align_items": null,
            "align_self": null,
            "border": null,
            "bottom": null,
            "display": null,
            "flex": null,
            "flex_flow": null,
            "grid_area": null,
            "grid_auto_columns": null,
            "grid_auto_flow": null,
            "grid_auto_rows": null,
            "grid_column": null,
            "grid_gap": null,
            "grid_row": null,
            "grid_template_areas": null,
            "grid_template_columns": null,
            "grid_template_rows": null,
            "height": null,
            "justify_content": null,
            "justify_items": null,
            "left": null,
            "margin": null,
            "max_height": null,
            "max_width": null,
            "min_height": null,
            "min_width": null,
            "object_fit": null,
            "object_position": null,
            "order": null,
            "overflow": null,
            "overflow_x": null,
            "overflow_y": null,
            "padding": null,
            "right": null,
            "top": null,
            "visibility": null,
            "width": null
          }
        },
        "0ed7538b11744e3d81bfe8388e842829": {
          "model_module": "@jupyter-widgets/controls",
          "model_name": "ProgressStyleModel",
          "model_module_version": "1.5.0",
          "state": {
            "_model_module": "@jupyter-widgets/controls",
            "_model_module_version": "1.5.0",
            "_model_name": "ProgressStyleModel",
            "_view_count": null,
            "_view_module": "@jupyter-widgets/base",
            "_view_module_version": "1.2.0",
            "_view_name": "StyleView",
            "bar_color": null,
            "description_width": ""
          }
        },
        "9c966c0a556e4be593c940504d7b080b": {
          "model_module": "@jupyter-widgets/base",
          "model_name": "LayoutModel",
          "model_module_version": "1.2.0",
          "state": {
            "_model_module": "@jupyter-widgets/base",
            "_model_module_version": "1.2.0",
            "_model_name": "LayoutModel",
            "_view_count": null,
            "_view_module": "@jupyter-widgets/base",
            "_view_module_version": "1.2.0",
            "_view_name": "LayoutView",
            "align_content": null,
            "align_items": null,
            "align_self": null,
            "border": null,
            "bottom": null,
            "display": null,
            "flex": null,
            "flex_flow": null,
            "grid_area": null,
            "grid_auto_columns": null,
            "grid_auto_flow": null,
            "grid_auto_rows": null,
            "grid_column": null,
            "grid_gap": null,
            "grid_row": null,
            "grid_template_areas": null,
            "grid_template_columns": null,
            "grid_template_rows": null,
            "height": null,
            "justify_content": null,
            "justify_items": null,
            "left": null,
            "margin": null,
            "max_height": null,
            "max_width": null,
            "min_height": null,
            "min_width": null,
            "object_fit": null,
            "object_position": null,
            "order": null,
            "overflow": null,
            "overflow_x": null,
            "overflow_y": null,
            "padding": null,
            "right": null,
            "top": null,
            "visibility": null,
            "width": null
          }
        },
        "d0ccb1d815824dc089c8c396d8dbe9e7": {
          "model_module": "@jupyter-widgets/controls",
          "model_name": "DescriptionStyleModel",
          "model_module_version": "1.5.0",
          "state": {
            "_model_module": "@jupyter-widgets/controls",
            "_model_module_version": "1.5.0",
            "_model_name": "DescriptionStyleModel",
            "_view_count": null,
            "_view_module": "@jupyter-widgets/base",
            "_view_module_version": "1.2.0",
            "_view_name": "StyleView",
            "description_width": ""
          }
        },
        "68bdddad34f4484a8eb384df87bae66b": {
          "model_module": "@jupyter-widgets/controls",
          "model_name": "HBoxModel",
          "model_module_version": "1.5.0",
          "state": {
            "_dom_classes": [],
            "_model_module": "@jupyter-widgets/controls",
            "_model_module_version": "1.5.0",
            "_model_name": "HBoxModel",
            "_view_count": null,
            "_view_module": "@jupyter-widgets/controls",
            "_view_module_version": "1.5.0",
            "_view_name": "HBoxView",
            "box_style": "",
            "children": [
              "IPY_MODEL_90eb739d066c494db94c535b63500eea",
              "IPY_MODEL_726f33a9e8e645c3a94f48025aa3e10b",
              "IPY_MODEL_954d79a45ff140848d96ec554005f5ee"
            ],
            "layout": "IPY_MODEL_9dc7d1528e8649cd8c5ada32acf4b5bd"
          }
        },
        "90eb739d066c494db94c535b63500eea": {
          "model_module": "@jupyter-widgets/controls",
          "model_name": "HTMLModel",
          "model_module_version": "1.5.0",
          "state": {
            "_dom_classes": [],
            "_model_module": "@jupyter-widgets/controls",
            "_model_module_version": "1.5.0",
            "_model_name": "HTMLModel",
            "_view_count": null,
            "_view_module": "@jupyter-widgets/controls",
            "_view_module_version": "1.5.0",
            "_view_name": "HTMLView",
            "description": "",
            "description_tooltip": null,
            "layout": "IPY_MODEL_2dabedd9b4714d8fa07f97ce65bb4e12",
            "placeholder": "​",
            "style": "IPY_MODEL_e9693ae7fa8c45668fa23eba1bae57c7",
            "value": "Generating train split: 100%"
          }
        },
        "726f33a9e8e645c3a94f48025aa3e10b": {
          "model_module": "@jupyter-widgets/controls",
          "model_name": "FloatProgressModel",
          "model_module_version": "1.5.0",
          "state": {
            "_dom_classes": [],
            "_model_module": "@jupyter-widgets/controls",
            "_model_module_version": "1.5.0",
            "_model_name": "FloatProgressModel",
            "_view_count": null,
            "_view_module": "@jupyter-widgets/controls",
            "_view_module_version": "1.5.0",
            "_view_name": "ProgressView",
            "bar_style": "success",
            "description": "",
            "description_tooltip": null,
            "layout": "IPY_MODEL_2b2ee5628bda4f3d84c66d33bc796a85",
            "max": 55447,
            "min": 0,
            "orientation": "horizontal",
            "style": "IPY_MODEL_5085c0bdce0144cf9659962d8f4e49ad",
            "value": 55447
          }
        },
        "954d79a45ff140848d96ec554005f5ee": {
          "model_module": "@jupyter-widgets/controls",
          "model_name": "HTMLModel",
          "model_module_version": "1.5.0",
          "state": {
            "_dom_classes": [],
            "_model_module": "@jupyter-widgets/controls",
            "_model_module_version": "1.5.0",
            "_model_name": "HTMLModel",
            "_view_count": null,
            "_view_module": "@jupyter-widgets/controls",
            "_view_module_version": "1.5.0",
            "_view_name": "HTMLView",
            "description": "",
            "description_tooltip": null,
            "layout": "IPY_MODEL_4c57a7e3d52d42e69552a6371f0acd70",
            "placeholder": "​",
            "style": "IPY_MODEL_a7a79cc7a0fc4cd7989f6505b52c82bb",
            "value": " 55447/55447 [00:05&lt;00:00, 10177.90 examples/s]"
          }
        },
        "9dc7d1528e8649cd8c5ada32acf4b5bd": {
          "model_module": "@jupyter-widgets/base",
          "model_name": "LayoutModel",
          "model_module_version": "1.2.0",
          "state": {
            "_model_module": "@jupyter-widgets/base",
            "_model_module_version": "1.2.0",
            "_model_name": "LayoutModel",
            "_view_count": null,
            "_view_module": "@jupyter-widgets/base",
            "_view_module_version": "1.2.0",
            "_view_name": "LayoutView",
            "align_content": null,
            "align_items": null,
            "align_self": null,
            "border": null,
            "bottom": null,
            "display": null,
            "flex": null,
            "flex_flow": null,
            "grid_area": null,
            "grid_auto_columns": null,
            "grid_auto_flow": null,
            "grid_auto_rows": null,
            "grid_column": null,
            "grid_gap": null,
            "grid_row": null,
            "grid_template_areas": null,
            "grid_template_columns": null,
            "grid_template_rows": null,
            "height": null,
            "justify_content": null,
            "justify_items": null,
            "left": null,
            "margin": null,
            "max_height": null,
            "max_width": null,
            "min_height": null,
            "min_width": null,
            "object_fit": null,
            "object_position": null,
            "order": null,
            "overflow": null,
            "overflow_x": null,
            "overflow_y": null,
            "padding": null,
            "right": null,
            "top": null,
            "visibility": null,
            "width": null
          }
        },
        "2dabedd9b4714d8fa07f97ce65bb4e12": {
          "model_module": "@jupyter-widgets/base",
          "model_name": "LayoutModel",
          "model_module_version": "1.2.0",
          "state": {
            "_model_module": "@jupyter-widgets/base",
            "_model_module_version": "1.2.0",
            "_model_name": "LayoutModel",
            "_view_count": null,
            "_view_module": "@jupyter-widgets/base",
            "_view_module_version": "1.2.0",
            "_view_name": "LayoutView",
            "align_content": null,
            "align_items": null,
            "align_self": null,
            "border": null,
            "bottom": null,
            "display": null,
            "flex": null,
            "flex_flow": null,
            "grid_area": null,
            "grid_auto_columns": null,
            "grid_auto_flow": null,
            "grid_auto_rows": null,
            "grid_column": null,
            "grid_gap": null,
            "grid_row": null,
            "grid_template_areas": null,
            "grid_template_columns": null,
            "grid_template_rows": null,
            "height": null,
            "justify_content": null,
            "justify_items": null,
            "left": null,
            "margin": null,
            "max_height": null,
            "max_width": null,
            "min_height": null,
            "min_width": null,
            "object_fit": null,
            "object_position": null,
            "order": null,
            "overflow": null,
            "overflow_x": null,
            "overflow_y": null,
            "padding": null,
            "right": null,
            "top": null,
            "visibility": null,
            "width": null
          }
        },
        "e9693ae7fa8c45668fa23eba1bae57c7": {
          "model_module": "@jupyter-widgets/controls",
          "model_name": "DescriptionStyleModel",
          "model_module_version": "1.5.0",
          "state": {
            "_model_module": "@jupyter-widgets/controls",
            "_model_module_version": "1.5.0",
            "_model_name": "DescriptionStyleModel",
            "_view_count": null,
            "_view_module": "@jupyter-widgets/base",
            "_view_module_version": "1.2.0",
            "_view_name": "StyleView",
            "description_width": ""
          }
        },
        "2b2ee5628bda4f3d84c66d33bc796a85": {
          "model_module": "@jupyter-widgets/base",
          "model_name": "LayoutModel",
          "model_module_version": "1.2.0",
          "state": {
            "_model_module": "@jupyter-widgets/base",
            "_model_module_version": "1.2.0",
            "_model_name": "LayoutModel",
            "_view_count": null,
            "_view_module": "@jupyter-widgets/base",
            "_view_module_version": "1.2.0",
            "_view_name": "LayoutView",
            "align_content": null,
            "align_items": null,
            "align_self": null,
            "border": null,
            "bottom": null,
            "display": null,
            "flex": null,
            "flex_flow": null,
            "grid_area": null,
            "grid_auto_columns": null,
            "grid_auto_flow": null,
            "grid_auto_rows": null,
            "grid_column": null,
            "grid_gap": null,
            "grid_row": null,
            "grid_template_areas": null,
            "grid_template_columns": null,
            "grid_template_rows": null,
            "height": null,
            "justify_content": null,
            "justify_items": null,
            "left": null,
            "margin": null,
            "max_height": null,
            "max_width": null,
            "min_height": null,
            "min_width": null,
            "object_fit": null,
            "object_position": null,
            "order": null,
            "overflow": null,
            "overflow_x": null,
            "overflow_y": null,
            "padding": null,
            "right": null,
            "top": null,
            "visibility": null,
            "width": null
          }
        },
        "5085c0bdce0144cf9659962d8f4e49ad": {
          "model_module": "@jupyter-widgets/controls",
          "model_name": "ProgressStyleModel",
          "model_module_version": "1.5.0",
          "state": {
            "_model_module": "@jupyter-widgets/controls",
            "_model_module_version": "1.5.0",
            "_model_name": "ProgressStyleModel",
            "_view_count": null,
            "_view_module": "@jupyter-widgets/base",
            "_view_module_version": "1.2.0",
            "_view_name": "StyleView",
            "bar_color": null,
            "description_width": ""
          }
        },
        "4c57a7e3d52d42e69552a6371f0acd70": {
          "model_module": "@jupyter-widgets/base",
          "model_name": "LayoutModel",
          "model_module_version": "1.2.0",
          "state": {
            "_model_module": "@jupyter-widgets/base",
            "_model_module_version": "1.2.0",
            "_model_name": "LayoutModel",
            "_view_count": null,
            "_view_module": "@jupyter-widgets/base",
            "_view_module_version": "1.2.0",
            "_view_name": "LayoutView",
            "align_content": null,
            "align_items": null,
            "align_self": null,
            "border": null,
            "bottom": null,
            "display": null,
            "flex": null,
            "flex_flow": null,
            "grid_area": null,
            "grid_auto_columns": null,
            "grid_auto_flow": null,
            "grid_auto_rows": null,
            "grid_column": null,
            "grid_gap": null,
            "grid_row": null,
            "grid_template_areas": null,
            "grid_template_columns": null,
            "grid_template_rows": null,
            "height": null,
            "justify_content": null,
            "justify_items": null,
            "left": null,
            "margin": null,
            "max_height": null,
            "max_width": null,
            "min_height": null,
            "min_width": null,
            "object_fit": null,
            "object_position": null,
            "order": null,
            "overflow": null,
            "overflow_x": null,
            "overflow_y": null,
            "padding": null,
            "right": null,
            "top": null,
            "visibility": null,
            "width": null
          }
        },
        "a7a79cc7a0fc4cd7989f6505b52c82bb": {
          "model_module": "@jupyter-widgets/controls",
          "model_name": "DescriptionStyleModel",
          "model_module_version": "1.5.0",
          "state": {
            "_model_module": "@jupyter-widgets/controls",
            "_model_module_version": "1.5.0",
            "_model_name": "DescriptionStyleModel",
            "_view_count": null,
            "_view_module": "@jupyter-widgets/base",
            "_view_module_version": "1.2.0",
            "_view_name": "StyleView",
            "description_width": ""
          }
        }
      }
    }
  },
  "nbformat": 4,
  "nbformat_minor": 0
}